{
 "cells": [
  {
   "cell_type": "code",
   "execution_count": 3,
   "metadata": {},
   "outputs": [
    {
     "name": "stdout",
     "output_type": "stream",
     "text": [
      "77AekESskotvU1PDpoE2uJhybj6CgI\n"
     ]
    }
   ],
   "source": [
    "import requests\n",
    "import os\n",
    "\n",
    "url = \"https://buildingtransparency.org/api/rest-auth/login\"\n",
    "\n",
    "querystring = {\"tokenless\":\"false\"}\n",
    "\n",
    "payload = {\n",
    "    \"username\": os.getenv(\"OPENEPD_USER\"),\n",
    "    \"password\": os.getenv(\"OPENEPD_PW\")\n",
    "}\n",
    "headers = {\n",
    "    \"Content-Type\": \"application/json\",\n",
    "    \"Accept\": \"application/json\"\n",
    "}\n",
    "\n",
    "response = requests.post(url, json=payload, headers=headers, params=querystring)\n",
    "\n",
    "response_data = response.json()\n",
    "\n",
    "#print(response_data)\n",
    "\n",
    "auth_key = response.json()['key']\n",
    "\n",
    "print(auth_key)"
   ]
  },
  {
   "cell_type": "code",
   "execution_count": 4,
   "metadata": {},
   "outputs": [],
   "source": [
    "headers = {\n",
    "    \"Accept\": \"application/json\",\n",
    "    \"Authorization\": \"Bearer \"+auth_key\n",
    "}"
   ]
  },
  {
   "cell_type": "code",
   "execution_count": 4,
   "metadata": {},
   "outputs": [],
   "source": [
    "industry_epd_url = \"https://buildingtransparency.org/api/industry_epds\"\n",
    "product_epd_url = \"https://buildingtransparency.org/api/epds\"\n",
    "\n",
    "querystring = {\"page_size\":\"250\"}\n",
    "\n",
    "indus_response = requests.get(industry_epd_url, headers=headers, params=querystring)\n",
    "prod_response = requests.get(product_epd_url, headers=headers, params=querystring)\n",
    "\n",
    "indus_results = indus_response.json()\n",
    "prod_results = prod_response.json()"
   ]
  },
  {
   "cell_type": "code",
   "execution_count": 5,
   "metadata": {},
   "outputs": [
    {
     "name": "stdout",
     "output_type": "stream",
     "text": [
      "Industry EPD Pages:  10\n",
      "Product EPD Pages:  718\n"
     ]
    }
   ],
   "source": [
    "total_pages = int(indus_response.headers['X-Total-Pages'])\n",
    "total_pages2 = int(prod_response.headers['X-Total-Pages'])\n",
    "\n",
    "print('Industry EPD Pages: ', total_pages)\n",
    "print('Product EPD Pages: ', total_pages2)"
   ]
  },
  {
   "cell_type": "code",
   "execution_count": 8,
   "metadata": {},
   "outputs": [
    {
     "data": {
      "text/plain": [
       "list"
      ]
     },
     "execution_count": 8,
     "metadata": {},
     "output_type": "execute_result"
    }
   ],
   "source": [
    "response = requests.get(product_epd_url, headers=headers, params=querystring)\n",
    "epd_data = response.json()\n",
    "\n",
    "type(epd_data)\n"
   ]
  },
  {
   "cell_type": "code",
   "execution_count": 24,
   "metadata": {},
   "outputs": [
    {
     "name": "stdout",
     "output_type": "stream",
     "text": [
      "<class 'dict'>\n"
     ]
    },
    {
     "data": {
      "text/plain": [
       "'339 kgCO2e'"
      ]
     },
     "execution_count": 24,
     "metadata": {},
     "output_type": "execute_result"
    },
    {
     "ename": "",
     "evalue": "",
     "output_type": "error",
     "traceback": [
      "\u001b[1;31mThe Kernel crashed while executing code in the current cell or a previous cell. \n",
      "\u001b[1;31mPlease review the code in the cell(s) to identify a possible cause of the failure. \n",
      "\u001b[1;31mClick <a href='https://aka.ms/vscodeJupyterKernelCrash'>here</a> for more info. \n",
      "\u001b[1;31mView Jupyter <a href='command:jupyter.viewOutput'>log</a> for further details."
     ]
    }
   ],
   "source": [
    "print(type(epd_data[0]))\n",
    "epd_data[0].keys()\n",
    "epd_data[0]['gwp_per_category_declared_unit']"
   ]
  },
  {
   "cell_type": "code",
   "execution_count": null,
   "metadata": {},
   "outputs": [],
   "source": []
  },
  {
   "cell_type": "code",
   "execution_count": 6,
   "metadata": {},
   "outputs": [
    {
     "name": "stdout",
     "output_type": "stream",
     "text": [
      "successfully completed page 1\n",
      "successfully completed page 2\n",
      "successfully completed page 3\n",
      "successfully completed page 4\n",
      "successfully completed page 5\n",
      "successfully completed page 6\n",
      "successfully completed page 7\n",
      "successfully completed page 8\n",
      "successfully completed page 9\n",
      "successfully completed page 10\n",
      "successfully completed page 11\n"
     ]
    }
   ],
   "source": [
    "industry_epds = []\n",
    "\n",
    "for i in range(total_pages+1):\n",
    "        querystring = {\n",
    "                \"page_number\": i+1,\n",
    "                \"page_size\":\"250\"}\n",
    "        response = requests.get(industry_epd_url, headers=headers, params=querystring)\n",
    "        epd_data = response.json()\n",
    "        for epd in epd_data:\n",
    "                industry_epds.append(epd)\n",
    "        print(\"successfully completed page \"+str(i+1))\n",
    "        "
   ]
  },
  {
   "cell_type": "code",
   "execution_count": 6,
   "metadata": {},
   "outputs": [
    {
     "name": "stdout",
     "output_type": "stream",
     "text": [
      "successfully completed page 1\n",
      "successfully completed page 66\n",
      "successfully completed page 131\n",
      "successfully completed page 196\n",
      "successfully completed page 261\n",
      "successfully completed page 326\n",
      "successfully completed page 391\n",
      "successfully completed page 456\n",
      "successfully completed page 521\n",
      "successfully completed page 586\n",
      "successfully completed page 651\n",
      "successfully completed page 716\n"
     ]
    }
   ],
   "source": [
    "product_epds = []\n",
    "\n",
    "for i in range(0,total_pages2+1, 65):\n",
    "        querystring = {\n",
    "                \"page_number\": i+1,\n",
    "                \"page_size\":\"250\"}\n",
    "        response = requests.get(product_epd_url, headers=headers, params=querystring)\n",
    "        epd_data = response.json()\n",
    "        for epd in epd_data:\n",
    "                product_epds.append(epd)\n",
    "        print(\"successfully completed page \"+str(i+1))\n",
    "        "
   ]
  },
  {
   "cell_type": "code",
   "execution_count": 20,
   "metadata": {},
   "outputs": [],
   "source": [
    "import json\n",
    "\n",
    "len(product_epds) #len is 3000\n",
    "rand_epd_lst = [0, 732, 1899, 2567, 2999]\n",
    "\n",
    "for num in rand_epd_lst:\n",
    "    filename = f'productSpecificEPDs_{num}.json'\n",
    "    with open(filename, 'w') as json_file:\n",
    "        json.dump(product_epds[num], json_file, indent=4)\n",
    "\n",
    "\n",
    "with open('productSpecificEPDs.json', 'w') as json_file:\n",
    "    json.dump(product_epds, json_file, indent=4)\n",
    "\n"
   ]
  },
  {
   "cell_type": "code",
   "execution_count": 7,
   "metadata": {},
   "outputs": [
    {
     "name": "stdout",
     "output_type": "stream",
     "text": [
      "2332\n"
     ]
    }
   ],
   "source": [
    "print(len(industry_epds))\n"
   ]
  },
  {
   "cell_type": "code",
   "execution_count": 8,
   "metadata": {},
   "outputs": [],
   "source": [
    "import json\n",
    "\n",
    "len(industry_epds) #len is 2332\n",
    "rand_epd_lst = [0, 715, 916, 1263, 2331]\n",
    "\n",
    "for num in rand_epd_lst:\n",
    "    filename = f'industryWideEPDs_{num}.json'\n",
    "    with open(filename, 'w') as json_file:\n",
    "        json.dump(industry_epds[num], json_file, indent=4)\n",
    "\n",
    "with open('industryWideEPDs.json', 'w') as json_file:\n",
    "    json.dump(industry_epds, json_file, indent=4)\n",
    "\n",
    "\n",
    "\n",
    "#print(industry_epds)"
   ]
  },
  {
   "cell_type": "code",
   "execution_count": 7,
   "metadata": {},
   "outputs": [
    {
     "data": {
      "text/plain": [
       "{'id': 'ec311c85',\n",
       " 'ref': 'https://openepd.buildingtransparency.org/api/epds/EC311C85',\n",
       " 'ec3': {'uaGWP_a1a2a3_traci21': 2.7938335580104043,\n",
       "  'uaGWP_a1a2a3_ar5': 2.7965375686411007,\n",
       "  'category': 'Steel >> ColdFormedSteel >> DeckingSteel',\n",
       "  'manufacturer_specific': True,\n",
       "  'plant_specific': False,\n",
       "  'product_specific': True,\n",
       "  'batch_specific': None,\n",
       "  'supply_chain_specificity': 0.0,\n",
       "  'original_data_format': 'pdf_manual'},\n",
       " 'openepd_version': '0.1',\n",
       " 'doctype': 'OpenEPD',\n",
       " 'version': None,\n",
       " 'language': 'en',\n",
       " 'private': False,\n",
       " 'declaration_url': 'https://www.scsglobalservices.com/certified-green-products-guide?pd_pid=69172',\n",
       " 'lca_discussion': None,\n",
       " 'program_operator_doc_id': 'SCS-EPD-09143',\n",
       " 'program_operator_version': None,\n",
       " 'third_party_verification_url': None,\n",
       " 'third_party_verifier_email': 'user_aaf9694988f34f84968d46ab4ca2ce59@cqd.io',\n",
       " 'epd_developer_email': None,\n",
       " 'date_of_issue': '2023-06-29T00:00:00Z',\n",
       " 'valid_until': '2028-06-28T00:00:00Z',\n",
       " 'declared_unit': {'qty': 1, 'unit': 'kg'},\n",
       " 'kg_per_declared_unit': {'qty': 1.0, 'unit': 'kg'},\n",
       " 'kg_C_per_declared_unit': None,\n",
       " 'product_name': 'Verco Fabricated Steel and Floor Deck from BOF coil',\n",
       " 'product_sku': None,\n",
       " 'product_description': 'Steel deck is typically manufactured by rolling or otherwise forming light gage steel coils into specific shapes. The coils are\\neither galvanized or uncoated steel to which a coating of paint may be applied. Deck in this EPD represents product\\nmanufactured in North America.',\n",
       " 'product_image_small': None,\n",
       " 'product_image': 'https://cqddatastore.blob.core.windows.net/cqd/images/ced81e133dfd4ce3a4056b2dcb16d2fb.png',\n",
       " 'product_service_life_years': None,\n",
       " 'product_classes': {'EC3': 'Steel >> ColdFormedSteel >> DeckingSteel',\n",
       "  'io.cqd.ec3': 'Steel >> ColdFormedSteel >> DeckingSteel'},\n",
       " 'applicable_in': ['001'],\n",
       " 'product_usage_description': None,\n",
       " 'product_usage_image': None,\n",
       " 'manufacturing_description': None,\n",
       " 'manufacturing_image': None,\n",
       " 'impacts': {'TRACI 2.1': {'gwp': {'A1A2A3': {'mean': 2.21623,\n",
       "     'unit': 'kgCO2e',\n",
       "     'rsd': 0.30967725134404045,\n",
       "     'dist': 'log-normal'},\n",
       "    'A1': None,\n",
       "    'A2': None,\n",
       "    'A3': None,\n",
       "    'A4': None,\n",
       "    'A5': None,\n",
       "    'B1': None,\n",
       "    'B1_years': None,\n",
       "    'B2': None,\n",
       "    'B2_years': None,\n",
       "    'B3': None,\n",
       "    'B3_years': None,\n",
       "    'B4': None,\n",
       "    'B4_years': None,\n",
       "    'B5': None,\n",
       "    'B5_years': None,\n",
       "    'B6': None,\n",
       "    'B6_years': None,\n",
       "    'B7': None,\n",
       "    'B7_years': None,\n",
       "    'C1': None,\n",
       "    'C2': None,\n",
       "    'C3': None,\n",
       "    'C4': None,\n",
       "    'D': None,\n",
       "    'C_scenarios': None}}},\n",
       " 'resource_uses': {},\n",
       " 'output_flows': {},\n",
       " 'specs': {'steel': {'form_factor': 'Steel >> ColdFormedSteel >> DeckingSteel',\n",
       "   'steel_composition': None,\n",
       "   'Fy': None,\n",
       "   'options': {'galvanized': False,\n",
       "    'epoxy': None,\n",
       "    'cold_finished': False,\n",
       "    'steel_fabricated': None},\n",
       "   'making_route': {'bof': True, 'eaf': None, 'ohf': None},\n",
       "   'ASTM': [],\n",
       "   'SAE': [],\n",
       "   'EN': []},\n",
       "  'Steel': {'ext_version': '1.0',\n",
       "   'yield_tensile_str': None,\n",
       "   'bar_elongation': None,\n",
       "   'recycled_content': None,\n",
       "   'post_consumer_recycled_content': None,\n",
       "   'astm_marking': None,\n",
       "   'euro_marking': None,\n",
       "   'composition': None,\n",
       "   'cold_finished': False,\n",
       "   'galvanized': False,\n",
       "   'stainless': False,\n",
       "   'making_route': {'bof': True, 'eaf': None, 'ohf': None},\n",
       "   'astm_standards': [],\n",
       "   'sae_standards': [],\n",
       "   'en_standards': [],\n",
       "   'MBQSteel': None,\n",
       "   'CoilSteel': None,\n",
       "   'ColdFormedSteel': {'ext_version': '1.0',\n",
       "    'ColdFormedFraming': None,\n",
       "    'DeckingSteel': {'ext_version': '1.0'},\n",
       "    'SteelSuspensionAssembly': None},\n",
       "   'StructuralSteel': None,\n",
       "   'PrefabricatedSteelAssemblies': None,\n",
       "   'PostTensioningSteel': None,\n",
       "   'RebarSteel': None,\n",
       "   'WireMeshSteel': None}},\n",
       " 'manufacturer': {'web_domain': 'nucor.com',\n",
       "  'ref': 'https://openepd.buildingtransparency.org/api/orgs/nucor.com',\n",
       "  'name': 'Nucor',\n",
       "  'alt_names': ['Nucor Corporation', 'Nucor Steel Seattle, Inc.']},\n",
       " 'plants': [{'id': '84CW253V+XM.nucor.com',\n",
       "   'name': 'Antioch, CA',\n",
       "   'ref': 'https://openepd.buildingtransparency.org/api/plants/84CW253V+XM.nucor.com',\n",
       "   'pluscode': '84CW253V+XM',\n",
       "   'address': 'Antioch, CA, USA'}],\n",
       " 'program_operator': {'web_domain': 'scsglobalservices.com',\n",
       "  'ref': 'https://openepd.buildingtransparency.org/api/orgs/scsglobalservices.com',\n",
       "  'name': 'SCS Global Services',\n",
       "  'alt_names': ['SCS', 'SCS Global', 'scsGlobalServices']},\n",
       " 'third_party_verifier': {'web_domain': 'scsglobalservices.com',\n",
       "  'ref': 'https://openepd.buildingtransparency.org/api/orgs/scsglobalservices.com',\n",
       "  'name': 'SCS Global Services',\n",
       "  'alt_names': ['SCS', 'SCS Global', 'scsGlobalServices']},\n",
       " 'epd_developer': {'web_domain': 'trinityconsultants.com',\n",
       "  'ref': 'https://openepd.buildingtransparency.org/api/orgs/trinityconsultants.com',\n",
       "  'name': 'Trinity Consultants',\n",
       "  'alt_names': None},\n",
       " 'pcr': {'id': 'ec3y4rsh',\n",
       "  'name': 'Part B: Designated Steel Construction Products',\n",
       "  'ref': 'https://openepd.buildingtransparency.org/api/pcrs/EC3Y4RSH',\n",
       "  'issuer_doc_id': None,\n",
       "  'short_name': 'Part B: Designated Steel Construction Products',\n",
       "  'version': '2',\n",
       "  'date_of_issue': '2020-12-31T00:00:00Z',\n",
       "  'valid_until': '2025-12-31T00:00:00Z',\n",
       "  'declared_units': [{'qty': 1000.0, 'unit': 'kg'}, {'qty': 1, 'unit': 'm'}],\n",
       "  'doc': 'https://www.shopulstandards.com/ProductDetail.aspx?productId=ULE10010-34_2_S_20200826',\n",
       "  'product_classes': {'EC3': ['WireMeshSteel',\n",
       "    'FireProtectionPiping',\n",
       "    'BuriedPiping',\n",
       "    'Piping',\n",
       "    'PostTensioningSteel',\n",
       "    'RebarSteel',\n",
       "    'Steel'],\n",
       "   'io.cqd.ec3': ['WireMeshSteel',\n",
       "    'FireProtectionPiping',\n",
       "    'BuriedPiping',\n",
       "    'Piping',\n",
       "    'PostTensioningSteel',\n",
       "    'RebarSteel',\n",
       "    'Steel']},\n",
       "  'status': None},\n",
       " 'compliance': [],\n",
       " 'attachments': None,\n",
       " 'includes': [],\n",
       " 'alt_ids': {}}"
      ]
     },
     "execution_count": 7,
     "metadata": {},
     "output_type": "execute_result"
    }
   ],
   "source": [
    "import requests\n",
    "\n",
    "impact_info_url = \"https://openepd.buildingtransparency.org/api/epds/\"+\"ec311c85\"\n",
    "\n",
    "response_impact = requests.get(impact_info_url, headers=headers)\n",
    "response_impact.json()\n"
   ]
  }
 ],
 "metadata": {
  "kernelspec": {
   "display_name": "base",
   "language": "python",
   "name": "python3"
  },
  "language_info": {
   "codemirror_mode": {
    "name": "ipython",
    "version": 3
   },
   "file_extension": ".py",
   "mimetype": "text/x-python",
   "name": "python",
   "nbconvert_exporter": "python",
   "pygments_lexer": "ipython3",
   "version": "3.12.4"
  }
 },
 "nbformat": 4,
 "nbformat_minor": 2
}
