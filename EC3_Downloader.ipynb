{
 "cells": [
  {
   "cell_type": "code",
   "execution_count": 1,
   "metadata": {},
   "outputs": [
    {
     "name": "stdout",
     "output_type": "stream",
     "text": [
      "CeIJbhO70VzSPjLTR9BAzOgOiSfJzL\n"
     ]
    }
   ],
   "source": [
    "import requests\n",
    "import os\n",
    "\n",
    "url = \"https://buildingtransparency.org/api/rest-auth/login\"\n",
    "\n",
    "querystring = {\"tokenless\":\"false\"}\n",
    "\n",
    "payload = {\n",
    "    \"username\": os.getenv(\"OPENEPD_USER\"),\n",
    "    \"password\": os.getenv(\"OPENEPD_PW\")\n",
    "}\n",
    "headers = {\n",
    "    \"Content-Type\": \"application/json\",\n",
    "    \"Accept\": \"application/json\"\n",
    "}\n",
    "\n",
    "response = requests.post(url, json=payload, headers=headers, params=querystring)\n",
    "\n",
    "response_data = response.json()\n",
    "\n",
    "#print(response_data)\n",
    "\n",
    "auth_key = response.json()['key']\n",
    "\n",
    "print(auth_key)"
   ]
  },
  {
   "cell_type": "code",
   "execution_count": 11,
   "metadata": {},
   "outputs": [],
   "source": [
    "headers = {\n",
    "    \"Accept\": \"application/json\",\n",
    "    \"Authorization\": \"Bearer \"+auth_key\n",
    "}\n",
    "\n",
    "#ndustry_epd_url = \"https://buildingtransparency.org/api/industry_epds\"\n",
    "product_epd_url = \"https://buildingtransparency.org/api/epds\"\n",
    "\n",
    "querystring = {\"page_size\":\"250\"}\n",
    "\n",
    "#indus_response = requests.get(industry_epd_url, headers=headers, params=querystring)\n",
    "prod_response = requests.get(product_epd_url, headers=headers, params=querystring)\n",
    "\n",
    "#indus_results = indus_response.json()\n",
    "prod_results = prod_response.json()"
   ]
  },
  {
   "cell_type": "code",
   "execution_count": 42,
   "metadata": {},
   "outputs": [
    {
     "name": "stdout",
     "output_type": "stream",
     "text": [
      "<class 'str'>\n",
      "ec3rp05b\n"
     ]
    }
   ],
   "source": [
    "#prod_results[93]\n",
    "lcia = list(prod_results[93]['pcr']['lcia_requirements'].keys())[0]\n",
    "print(type(lcia))\n",
    "print(prod_results[48]['open_xpd_uuid'])\n"
   ]
  },
  {
   "cell_type": "code",
   "execution_count": 43,
   "metadata": {},
   "outputs": [
    {
     "data": {
      "text/plain": [
       "{'EF 3.0': {'gwp': {'A1A2A3': {'mean': 133.0,\n",
       "    'unit': 'kgCO2e',\n",
       "    'rsd': 0.28879058156387305,\n",
       "    'dist': 'log-normal'},\n",
       "   'A1': None,\n",
       "   'A2': None,\n",
       "   'A3': None,\n",
       "   'A4': None,\n",
       "   'A5': None,\n",
       "   'B1': None,\n",
       "   'B1_years': None,\n",
       "   'B2': None,\n",
       "   'B2_years': None,\n",
       "   'B3': None,\n",
       "   'B3_years': None,\n",
       "   'B4': None,\n",
       "   'B4_years': None,\n",
       "   'B5': None,\n",
       "   'B5_years': None,\n",
       "   'B6': None,\n",
       "   'B6_years': None,\n",
       "   'B7': None,\n",
       "   'B7_years': None,\n",
       "   'C1': None,\n",
       "   'C2': None,\n",
       "   'C3': None,\n",
       "   'C4': None,\n",
       "   'D': None,\n",
       "   'C_scenarios': None}}}"
      ]
     },
     "execution_count": 43,
     "metadata": {},
     "output_type": "execute_result"
    }
   ],
   "source": [
    "impact_info_url = \"https://openepd.buildingtransparency.org/api/epds/\"+\"ec3rp05b\"\n",
    "\n",
    "response_impact = requests.get(impact_info_url, headers=headers)\n",
    "resp = response_impact.json()\n",
    "# print(resp['impacts'][lcia]['gwp'][\"A1A2A3\"]['mean'])\n",
    "# print(resp['impacts'][lcia]['gwp']['C2'])\n",
    "# print(resp['impacts'][lcia]['gwp']['C3'])\n",
    "# print(resp['impacts'][lcia]['gwp']['C4'])\n",
    "# print(resp['impacts'][lcia]['odp'])\n",
    "\n",
    "resp['impacts']"
   ]
  },
  {
   "cell_type": "code",
   "execution_count": 5,
   "metadata": {},
   "outputs": [
    {
     "name": "stdout",
     "output_type": "stream",
     "text": [
      "Product EPD Pages:  722\n"
     ]
    }
   ],
   "source": [
    "#total_pages = int(indus_response.headers['X-Total-Pages'])\n",
    "total_pages2 = int(prod_response.headers['X-Total-Pages'])\n",
    "\n",
    "#print('Industry EPD Pages: ', total_pages)\n",
    "print('Product EPD Pages: ', total_pages2)"
   ]
  },
  {
   "cell_type": "code",
   "execution_count": 21,
   "metadata": {},
   "outputs": [
    {
     "name": "stdout",
     "output_type": "stream",
     "text": [
      "successfully completed page 1\n",
      "successfully completed page 2\n"
     ]
    }
   ],
   "source": [
    "product_epds = []\n",
    "\n",
    "for i in range(0,2):\n",
    "        querystring = {\n",
    "                \"page_number\": i+1,\n",
    "                \"page_size\":\"250\"}\n",
    "        response = requests.get(product_epd_url, headers=headers, params=querystring)\n",
    "        epd_data = response.json()\n",
    "        for epd in epd_data:\n",
    "                product_epds.append(epd)\n",
    "        print(\"successfully completed page \"+str(i+1))"
   ]
  },
  {
   "cell_type": "code",
   "execution_count": 2,
   "metadata": {},
   "outputs": [],
   "source": [
    "def get_page(page):    \n",
    "    epd_lst = []\n",
    "\n",
    "    querystring = {\n",
    "            \"page_number\": page,\n",
    "            \"page_size\":\"250\"}\n",
    "    response = requests.get(product_epd_url, headers=headers, params=querystring)\n",
    "    epd_data = response.json()\n",
    "    for epd in epd_data:\n",
    "            epd_lst.append(epd)\n",
    "    print(\"successfully loaded page \"+str(page))\n",
    "\n",
    "    return epd_lst"
   ]
  },
  {
   "cell_type": "code",
   "execution_count": null,
   "metadata": {},
   "outputs": [],
   "source": [
    "product_epds[250]"
   ]
  },
  {
   "cell_type": "code",
   "execution_count": 6,
   "metadata": {},
   "outputs": [
    {
     "name": "stdout",
     "output_type": "stream",
     "text": [
      "successfully loaded page 1\n",
      "json #247 is done\n",
      "json #248 is done\n",
      "json #249 is done\n",
      "successfully loaded page 2\n",
      "json #250 is done\n",
      "All data saved to epds.json\n",
      "All error data saved to epds.json\n"
     ]
    }
   ],
   "source": [
    "from datetime import datetime\n",
    "import requests\n",
    "import json\n",
    "\n",
    "#category = ['GWP-total','GWP-biogenic','GWP-fossil','GWP-IOBC']\n",
    "\n",
    "headers = {\n",
    "    \"Accept\": \"application/json\",\n",
    "    \"Authorization\": \"Bearer \"+auth_key\n",
    "}\n",
    "\n",
    "product_epd_url = \"https://buildingtransparency.org/api/epds\"\n",
    "impact_info_url = \"https://openepd.buildingtransparency.org/api/epds/\"\n",
    "\n",
    "EPDs = []\n",
    "EC3_epds = []\n",
    "product_epds = []\n",
    "error_epds = []\n",
    "none = \"Unmapped\"\n",
    "page = 0\n",
    "\n",
    "for x in range(0,301):\n",
    "    if x % 250 == 0 or page == 0:\n",
    "        page += 1\n",
    "        EC3_epds.extend(get_page(page))\n",
    "\n",
    "\n",
    "    date_validity_ends_str = EC3_epds[x]['date_validity_ends']\n",
    "    #date_validity_ends = datetime.strptime(date_validity_ends_str, '%Y-%m-%d')\n",
    "\n",
    "    #if date_validity_ends < datetime.now():\n",
    "        #print(f\"EPD {x} expired, skipping...\")\n",
    "        #continue\n",
    "\n",
    "    xpdID = EC3_epds[x]['open_xpd_uuid']\n",
    "    response_impact = requests.get(impact_info_url+xpdID, headers=headers)\n",
    "    impact = response_impact.json()\n",
    "\n",
    "    material_data = {} \n",
    "\n",
    "    ############################### DATA PATHS #################################\n",
    "    #lcia = list(EC3_epds[x]['pcr']['lcia_requirements'].keys())[0]\n",
    "\n",
    "    try:\n",
    "        lcia_requirements = EC3_epds[x]['pcr']['lcia_requirements']\n",
    "        if lcia_requirements is None:\n",
    "            raise ValueError(\"lcia_requirements is None\")\n",
    "\n",
    "        lcia = list(lcia_requirements.keys())[0]\n",
    "    except (AttributeError, ValueError) as e:\n",
    "        print(f\"Skipping index {x} due to missing or invalid lcia_requirements: {e}\")\n",
    "        error_epds.append(f'json {x} lcia error')\n",
    "        continue\n",
    "\n",
    "\n",
    "    material_data['material_id'] = EC3_epds[x]['category']['id']\n",
    "    material_data.update({'validity':{'gte':EC3_epds[x]['category']['created_on'], 'lte':date_validity_ends_str}})\n",
    "    material_data.update({'display_name':EC3_epds[x]['category']['display_name']})\n",
    "    material_data.update({\"source\": \"Product Specific EPDs\"})\n",
    "    material_data.update({'declared_unit':EC3_epds[x]['category']['declared_unit']})\n",
    "    material_data.update({'A4_transportation':{'mode':EC3_epds[x]['category']['default_transport_mode'], 'distance':{'qty':EC3_epds[x]['category']['default_distance'], 'unit':'km (plchlder)'}}})\n",
    "    material_data.update({'service_life':EC3_epds[x]['reference_service_life']})\n",
    "    material_data.update({'waste_rate':none})\n",
    "    material_data.update({'density':{'qty':EC3_epds[x]['density'], 'unit':'kg/m3 (plchlder)'}})\n",
    "    material_data.update({'item_mass':{'qty':EC3_epds[x]['category']['mass_per_declared_unit'], 'unit':'kg (plchlder)'}})\n",
    "\n",
    "\n",
    "    try:\n",
    "        material_data.update({'impacts':{lcia:{'gwp_total':{'A1_A3':impact['impacts'][lcia]['gwp'][\"A1A2A3\"]['mean'], 'C2':impact['impacts'][lcia]['gwp']['C2'], 'C3':impact['impacts'][lcia]['gwp']['C3'], 'C4':impact['impacts'][lcia]['gwp']['C4'], 'D':impact['impacts'][lcia]['gwp']['D']}}}})\n",
    "        #material_data.update({'impacts':{lcia:{'odp':{'A1_A3':impact['impacts'][lcia]['odp'][\"A1A2A3\"]['mean'], 'C2':impact['impacts'][lcia]['odp']['C2'], 'C3':impact['impacts'][lcia]['odp']['C3'], 'C4':impact['impacts'][lcia]['odp']['C4'], 'D':impact['impacts'][lcia]['odp']['D']}}}})\n",
    "    except KeyError:\n",
    "        print(f'Key error on json #{x}')\n",
    "        message = f'json {x} key error'\n",
    "        error_epds.append(message)\n",
    "        material_data.update({'characteristics':message})\n",
    "\n",
    "\n",
    "\n",
    "\n",
    "    desc = EC3_epds[x]['category']['description']\n",
    "    pcr_name = EC3_epds[x]['pcr']['name']\n",
    "    pcr_id = EC3_epds[x]['pcr']['id']\n",
    "    short_link = EC3_epds[x]['pcr']['short_link']\n",
    "    created_on = EC3_epds[x]['category']['created_on']\n",
    "\n",
    "    thckqty = EC3_epds[x]['thickness']\n",
    "    thckU = EC3_epds[x]['thickness_per_declared_unit']\n",
    "\n",
    "\n",
    "    dens = EC3_epds[x]['density']\n",
    "    sdens = EC3_epds[x]['specific_density']\n",
    "\n",
    "    \n",
    "\n",
    "\n",
    "\n",
    "  #   material_data = {\n",
    "\n",
    "  #   \"impacts\": {\n",
    "  #     \"EN15804\": {\n",
    "  #       \"gwp_total\": {\n",
    "  #         \"A1_A3\": 2.1,\n",
    "  #         \"C2\": 0.1,\n",
    "  #         \"C3\": 0.05,\n",
    "  #         \"C4\": 0.01,\n",
    "  #         \"D1\": -0.5\n",
    "  #       },\n",
    "  #       \"gwp_fossil\": {\n",
    "  #         \"A1_A3\": 2.0,\n",
    "  #         \"C2\": 0.1,\n",
    "  #         \"C3\": 0.04,\n",
    "  #         \"C4\": 0.01,\n",
    "  #         \"D1\": -0.48\n",
    "  #       }\n",
    "  #     }\n",
    "  #   },\n",
    "  #   \"characteristics\": {}\n",
    "  # }\n",
    "    \n",
    "    EPDs.append(material_data)\n",
    "    print(f'json #{x} is done')\n",
    "\n",
    "with open('epds.json', 'w') as json_file:\n",
    "    json.dump(EPDs, json_file, indent=4)\n",
    "\n",
    "print(\"All data saved to epds.json\")\n",
    "\n",
    "with open('error_epds.json', 'w') as json_file:\n",
    "    json.dump(error_epds, json_file, indent=4)\n",
    "\n",
    "print(\"All error data saved to epds.json\")\n"
   ]
  },
  {
   "cell_type": "code",
   "execution_count": 6,
   "metadata": {},
   "outputs": [
    {
     "data": {
      "text/plain": [
       "[{'material_id': 'b03dba1dca5b49acb1a5aa4daab546b4',\n",
       "  'validity': {'gte': '2018-06-26T01:11:48.938840Z', 'lte': '2021-10-03'},\n",
       "  'display_name': 'Ready Mix',\n",
       "  'source': 'Product Specific EPDs',\n",
       "  'declared_unit': '1 m3',\n",
       "  'A4_transportation': {'mode': 'concrete mixer truck',\n",
       "   'distance': {'qty': '51.49888 km', 'unit': 'km (plchlder)'}},\n",
       "  'service_life': None,\n",
       "  'waste_rate': 'Unmapped',\n",
       "  'density': {'qty': '2400 kg / m^3', 'unit': 'kg/m3 (plchlder)'},\n",
       "  'item_mass': {'qty': '2400 kg', 'unit': 'kg (plchlder)'},\n",
       "  'impacts': {'TRACI 2.1': {'gwp_total': {'A1_A3': 339.0,\n",
       "     'C2': None,\n",
       "     'C3': None,\n",
       "     'C4': None,\n",
       "     'D': None}}}}]"
      ]
     },
     "execution_count": 6,
     "metadata": {},
     "output_type": "execute_result"
    }
   ],
   "source": [
    "EPDs"
   ]
  },
  {
   "cell_type": "code",
   "execution_count": 12,
   "metadata": {},
   "outputs": [
    {
     "data": {
      "text/plain": [
       "'ec34u6kx'"
      ]
     },
     "execution_count": 12,
     "metadata": {},
     "output_type": "execute_result"
    }
   ],
   "source": [
    "#epd_data[0]['open_xpd_uuid']\n",
    "len(product_epd_ids)\n",
    "product_epd_ids[0]\n",
    "\n"
   ]
  },
  {
   "cell_type": "code",
   "execution_count": null,
   "metadata": {},
   "outputs": [],
   "source": []
  },
  {
   "cell_type": "code",
   "execution_count": 7,
   "metadata": {},
   "outputs": [],
   "source": [
    "import requests\n",
    "import json\n",
    "#ec3b6w55\n",
    "#ec36urza\n",
    "impact_info_url = \"https://openepd.buildingtransparency.org/api/epds/\"+\"ec3b6w55\"\n",
    "\n",
    "response_impact = requests.get(impact_info_url, headers=headers)\n",
    "resp = response_impact.json()\n",
    "\n",
    "file_path = 'impacts2.json'\n",
    "\n",
    "with open(file_path, 'w') as json_file:\n",
    "    json.dump(resp, json_file, indent=4)\n"
   ]
  },
  {
   "cell_type": "code",
   "execution_count": null,
   "metadata": {},
   "outputs": [],
   "source": [
    "    material_data = {\n",
    "        \"material_id\": 'to be assigned later',\n",
    "        \"display_name\": EPDname,\n",
    "        \"source\": none,\n",
    "        \"description\": f'{desc},',\n",
    "        #\"validity\": date_validity_ends_str,\n",
    "        \"reference_pcr\": {\n",
    "            \"name\": pcr_name,\n",
    "            \"id\": pcr_id,\n",
    "            \"link\": short_link\n",
    "        },\n",
    "        \"thickness\": {\n",
    "            \"qty\": thckqty,\n",
    "            \"unit\": thckU\n",
    "        },\n",
    "        \"service_life\": seLi,\n",
    "        \"waste_rate\": none,\n",
    "        \"transportation\": {\n",
    "            \"mode\": tMode,\n",
    "            \"distance\": dist\n",
    "        },\n",
    "        \"density\": {\n",
    "            \"qty\": dens,\n",
    "            \"unit\": none\n",
    "        },\n",
    "        \"linear_density\": {\n",
    "            \"qty\": sdens,\n",
    "            \"unit\": none\n",
    "        },\n",
    "        \"declared_unit\": unit,\n",
    "        \"lcia_method\": lcia,\n",
    "        \"background_database\": none,\n",
    "        \"impacts\": {\n",
    "            \"gwp_total\": {\n",
    "                #\"A1\": A11, \"A2\": A12, \"A3\": A13, \"A4\": A14, \"A5\": A15, \"C1\": C11,\n",
    "                #\"C2\": C12, \"C3\": C13, \"C4\": C14, \"D\": D1, \"D1\": D11, \"D2\": D12\n",
    "            },\n",
    "            \"gwp_biogenic\": {\n",
    "                #\"A1\": A21, \"A2\": A22, \"A3\": A23, \"A4\": A24, \"A5\": A25, \"C1\": C21,\n",
    "                #\"C2\": C22, \"C3\": C23, \"C4\": C24, \"D\": D2, \"D1\": D21, \"D2\": D22\n",
    "            },\n",
    "            \"gwp_fossil\": {\n",
    "                #\"A1\": A31, \"A2\": A32, \"A3\": A33, \"A4\": A34, \"A5\": A35, \"C1\": C31,\n",
    "                #\"C2\": C32, \"C3\": C33, \"C4\": C34, \"D\": D3, \"D1\": D31, \"D2\": D32\n",
    "            },\n",
    "            \"gwp_iobc\": {\n",
    "                #\"A1\": A41, \"A2\": A42, \"A3\": A43, \"A4\": A44, \"A5\": A45, \"C1\": C41,\n",
    "                #\"C2\": C42, \"C3\": C43, \"C4\": C44, \"D\": D4, \"D1\": D41, \"D2\": D42\n",
    "            }\n",
    "        },\n",
    "        \"characteristics\": {}\n",
    "    },"
   ]
  }
 ],
 "metadata": {
  "kernelspec": {
   "display_name": "base",
   "language": "python",
   "name": "python3"
  },
  "language_info": {
   "codemirror_mode": {
    "name": "ipython",
    "version": 3
   },
   "file_extension": ".py",
   "mimetype": "text/x-python",
   "name": "python",
   "nbconvert_exporter": "python",
   "pygments_lexer": "ipython3",
   "version": "3.12.4"
  }
 },
 "nbformat": 4,
 "nbformat_minor": 2
}
