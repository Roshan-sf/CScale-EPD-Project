{
 "cells": [
  {
   "cell_type": "code",
   "execution_count": 1,
   "metadata": {},
   "outputs": [
    {
     "name": "stdout",
     "output_type": "stream",
     "text": [
      "biV7gdyNOtQCKOHuO2Ko1WHAKk5JIb\n"
     ]
    }
   ],
   "source": [
    "import requests\n",
    "import os\n",
    "\n",
    "url = \"https://buildingtransparency.org/api/rest-auth/login\"\n",
    "\n",
    "querystring = {\"tokenless\":\"false\"}\n",
    "\n",
    "payload = {\n",
    "    \"username\": os.getenv(\"OPENEPD_USER\"),\n",
    "    \"password\": os.getenv(\"OPENEPD_PW\")\n",
    "}\n",
    "headers = {\n",
    "    \"Content-Type\": \"application/json\",\n",
    "    \"Accept\": \"application/json\"\n",
    "}\n",
    "\n",
    "response = requests.post(url, json=payload, headers=headers, params=querystring)\n",
    "\n",
    "response_data = response.json()\n",
    "\n",
    "#print(response_data)\n",
    "\n",
    "auth_key = response.json()['key']\n",
    "\n",
    "print(auth_key)"
   ]
  },
  {
   "cell_type": "code",
   "execution_count": 2,
   "metadata": {},
   "outputs": [],
   "source": [
    "headers = {\n",
    "    \"Accept\": \"application/json\",\n",
    "    \"Authorization\": \"Bearer \"+auth_key\n",
    "}\n",
    "\n",
    "#ndustry_epd_url = \"https://buildingtransparency.org/api/industry_epds\"\n",
    "product_epd_url = \"https://buildingtransparency.org/api/epds\"\n",
    "\n",
    "querystring = {\"page_size\":\"250\"}\n",
    "\n",
    "#indus_response = requests.get(industry_epd_url, headers=headers, params=querystring)\n",
    "prod_response = requests.get(product_epd_url, headers=headers, params=querystring)\n",
    "\n",
    "#indus_results = indus_response.json()\n",
    "prod_results = prod_response.json()"
   ]
  },
  {
   "cell_type": "code",
   "execution_count": 42,
   "metadata": {},
   "outputs": [
    {
     "name": "stdout",
     "output_type": "stream",
     "text": [
      "<class 'str'>\n",
      "ec3rp05b\n"
     ]
    }
   ],
   "source": [
    "#prod_results[93]\n",
    "lcia = list(prod_results[93]['pcr']['lcia_requirements'].keys())[0]\n",
    "print(type(lcia))\n",
    "print(prod_results[48]['open_xpd_uuid'])\n"
   ]
  },
  {
   "cell_type": "code",
   "execution_count": 43,
   "metadata": {},
   "outputs": [
    {
     "data": {
      "text/plain": [
       "{'EF 3.0': {'gwp': {'A1A2A3': {'mean': 133.0,\n",
       "    'unit': 'kgCO2e',\n",
       "    'rsd': 0.28879058156387305,\n",
       "    'dist': 'log-normal'},\n",
       "   'A1': None,\n",
       "   'A2': None,\n",
       "   'A3': None,\n",
       "   'A4': None,\n",
       "   'A5': None,\n",
       "   'B1': None,\n",
       "   'B1_years': None,\n",
       "   'B2': None,\n",
       "   'B2_years': None,\n",
       "   'B3': None,\n",
       "   'B3_years': None,\n",
       "   'B4': None,\n",
       "   'B4_years': None,\n",
       "   'B5': None,\n",
       "   'B5_years': None,\n",
       "   'B6': None,\n",
       "   'B6_years': None,\n",
       "   'B7': None,\n",
       "   'B7_years': None,\n",
       "   'C1': None,\n",
       "   'C2': None,\n",
       "   'C3': None,\n",
       "   'C4': None,\n",
       "   'D': None,\n",
       "   'C_scenarios': None}}}"
      ]
     },
     "execution_count": 43,
     "metadata": {},
     "output_type": "execute_result"
    }
   ],
   "source": [
    "impact_info_url = \"https://openepd.buildingtransparency.org/api/epds/\"+\"ec3rp05b\"\n",
    "\n",
    "response_impact = requests.get(impact_info_url, headers=headers)\n",
    "resp = response_impact.json()\n",
    "# print(resp['impacts'][lcia]['gwp'][\"A1A2A3\"]['mean'])\n",
    "# print(resp['impacts'][lcia]['gwp']['C2'])\n",
    "# print(resp['impacts'][lcia]['gwp']['C3'])\n",
    "# print(resp['impacts'][lcia]['gwp']['C4'])\n",
    "# print(resp['impacts'][lcia]['odp'])\n",
    "\n",
    "resp['impacts']"
   ]
  },
  {
   "cell_type": "code",
   "execution_count": 5,
   "metadata": {},
   "outputs": [
    {
     "name": "stdout",
     "output_type": "stream",
     "text": [
      "Product EPD Pages:  722\n"
     ]
    }
   ],
   "source": [
    "#total_pages = int(indus_response.headers['X-Total-Pages'])\n",
    "total_pages2 = int(prod_response.headers['X-Total-Pages'])\n",
    "\n",
    "#print('Industry EPD Pages: ', total_pages)\n",
    "print('Product EPD Pages: ', total_pages2)"
   ]
  },
  {
   "cell_type": "code",
   "execution_count": 21,
   "metadata": {},
   "outputs": [
    {
     "name": "stdout",
     "output_type": "stream",
     "text": [
      "successfully completed page 1\n",
      "successfully completed page 2\n"
     ]
    }
   ],
   "source": [
    "product_epds = []\n",
    "\n",
    "for i in range(0,2):\n",
    "        querystring = {\n",
    "                \"page_number\": i+1,\n",
    "                \"page_size\":\"250\"}\n",
    "        response = requests.get(product_epd_url, headers=headers, params=querystring)\n",
    "        epd_data = response.json()\n",
    "        for epd in epd_data:\n",
    "                product_epds.append(epd)\n",
    "        print(\"successfully completed page \"+str(i+1))"
   ]
  },
  {
   "cell_type": "code",
   "execution_count": 3,
   "metadata": {},
   "outputs": [
    {
     "name": "stdout",
     "output_type": "stream",
     "text": [
      "successfully completed page 1\n",
      "successfully completed page 2\n"
     ]
    }
   ],
   "source": [
    "EC3_epds = []\n",
    "\n",
    "for i in range(0,2):\n",
    "        querystring = {\n",
    "                \"page_number\": i+1,\n",
    "                \"page_size\":\"250\"}\n",
    "        response = requests.get(product_epd_url, headers=headers, params=querystring)\n",
    "        epd_data = response.json()\n",
    "        for epd in epd_data:\n",
    "                EC3_epds.append(epd)\n",
    "        print(\"successfully completed page \"+str(i+1))"
   ]
  },
  {
   "cell_type": "code",
   "execution_count": 4,
   "metadata": {},
   "outputs": [
    {
     "name": "stdout",
     "output_type": "stream",
     "text": [
      "done with impact 0\n",
      "done with impact 25\n",
      "done with impact 50\n",
      "done with impact 75\n",
      "done with impact 100\n",
      "done with impact 125\n",
      "done with impact 150\n",
      "done with impact 175\n",
      "done with impact 200\n"
     ]
    },
    {
     "ename": "ConnectTimeout",
     "evalue": "HTTPSConnectionPool(host='openepd.buildingtransparency.org', port=443): Max retries exceeded with url: /api/epds/ec337zxw (Caused by ConnectTimeoutError(<urllib3.connection.HTTPSConnection object at 0x0000023056C11B20>, 'Connection to openepd.buildingtransparency.org timed out. (connect timeout=None)'))",
     "output_type": "error",
     "traceback": [
      "\u001b[1;31m---------------------------------------------------------------------------\u001b[0m",
      "\u001b[1;31mTimeoutError\u001b[0m                              Traceback (most recent call last)",
      "File \u001b[1;32mc:\\Users\\rosha\\anaconda3\\Lib\\site-packages\\urllib3\\connection.py:196\u001b[0m, in \u001b[0;36mHTTPConnection._new_conn\u001b[1;34m(self)\u001b[0m\n\u001b[0;32m    195\u001b[0m \u001b[38;5;28;01mtry\u001b[39;00m:\n\u001b[1;32m--> 196\u001b[0m     sock \u001b[38;5;241m=\u001b[39m \u001b[43mconnection\u001b[49m\u001b[38;5;241;43m.\u001b[39;49m\u001b[43mcreate_connection\u001b[49m\u001b[43m(\u001b[49m\n\u001b[0;32m    197\u001b[0m \u001b[43m        \u001b[49m\u001b[43m(\u001b[49m\u001b[38;5;28;43mself\u001b[39;49m\u001b[38;5;241;43m.\u001b[39;49m\u001b[43m_dns_host\u001b[49m\u001b[43m,\u001b[49m\u001b[43m \u001b[49m\u001b[38;5;28;43mself\u001b[39;49m\u001b[38;5;241;43m.\u001b[39;49m\u001b[43mport\u001b[49m\u001b[43m)\u001b[49m\u001b[43m,\u001b[49m\n\u001b[0;32m    198\u001b[0m \u001b[43m        \u001b[49m\u001b[38;5;28;43mself\u001b[39;49m\u001b[38;5;241;43m.\u001b[39;49m\u001b[43mtimeout\u001b[49m\u001b[43m,\u001b[49m\n\u001b[0;32m    199\u001b[0m \u001b[43m        \u001b[49m\u001b[43msource_address\u001b[49m\u001b[38;5;241;43m=\u001b[39;49m\u001b[38;5;28;43mself\u001b[39;49m\u001b[38;5;241;43m.\u001b[39;49m\u001b[43msource_address\u001b[49m\u001b[43m,\u001b[49m\n\u001b[0;32m    200\u001b[0m \u001b[43m        \u001b[49m\u001b[43msocket_options\u001b[49m\u001b[38;5;241;43m=\u001b[39;49m\u001b[38;5;28;43mself\u001b[39;49m\u001b[38;5;241;43m.\u001b[39;49m\u001b[43msocket_options\u001b[49m\u001b[43m,\u001b[49m\n\u001b[0;32m    201\u001b[0m \u001b[43m    \u001b[49m\u001b[43m)\u001b[49m\n\u001b[0;32m    202\u001b[0m \u001b[38;5;28;01mexcept\u001b[39;00m socket\u001b[38;5;241m.\u001b[39mgaierror \u001b[38;5;28;01mas\u001b[39;00m e:\n",
      "File \u001b[1;32mc:\\Users\\rosha\\anaconda3\\Lib\\site-packages\\urllib3\\util\\connection.py:85\u001b[0m, in \u001b[0;36mcreate_connection\u001b[1;34m(address, timeout, source_address, socket_options)\u001b[0m\n\u001b[0;32m     84\u001b[0m \u001b[38;5;28;01mtry\u001b[39;00m:\n\u001b[1;32m---> 85\u001b[0m     \u001b[38;5;28;01mraise\u001b[39;00m err\n\u001b[0;32m     86\u001b[0m \u001b[38;5;28;01mfinally\u001b[39;00m:\n\u001b[0;32m     87\u001b[0m     \u001b[38;5;66;03m# Break explicitly a reference cycle\u001b[39;00m\n",
      "File \u001b[1;32mc:\\Users\\rosha\\anaconda3\\Lib\\site-packages\\urllib3\\util\\connection.py:73\u001b[0m, in \u001b[0;36mcreate_connection\u001b[1;34m(address, timeout, source_address, socket_options)\u001b[0m\n\u001b[0;32m     72\u001b[0m     sock\u001b[38;5;241m.\u001b[39mbind(source_address)\n\u001b[1;32m---> 73\u001b[0m \u001b[43msock\u001b[49m\u001b[38;5;241;43m.\u001b[39;49m\u001b[43mconnect\u001b[49m\u001b[43m(\u001b[49m\u001b[43msa\u001b[49m\u001b[43m)\u001b[49m\n\u001b[0;32m     74\u001b[0m \u001b[38;5;66;03m# Break explicitly a reference cycle\u001b[39;00m\n",
      "\u001b[1;31mTimeoutError\u001b[0m: [WinError 10060] A connection attempt failed because the connected party did not properly respond after a period of time, or established connection failed because connected host has failed to respond",
      "\nThe above exception was the direct cause of the following exception:\n",
      "\u001b[1;31mConnectTimeoutError\u001b[0m                       Traceback (most recent call last)",
      "File \u001b[1;32mc:\\Users\\rosha\\anaconda3\\Lib\\site-packages\\urllib3\\connectionpool.py:789\u001b[0m, in \u001b[0;36mHTTPConnectionPool.urlopen\u001b[1;34m(self, method, url, body, headers, retries, redirect, assert_same_host, timeout, pool_timeout, release_conn, chunked, body_pos, preload_content, decode_content, **response_kw)\u001b[0m\n\u001b[0;32m    788\u001b[0m \u001b[38;5;66;03m# Make the request on the HTTPConnection object\u001b[39;00m\n\u001b[1;32m--> 789\u001b[0m response \u001b[38;5;241m=\u001b[39m \u001b[38;5;28;43mself\u001b[39;49m\u001b[38;5;241;43m.\u001b[39;49m\u001b[43m_make_request\u001b[49m\u001b[43m(\u001b[49m\n\u001b[0;32m    790\u001b[0m \u001b[43m    \u001b[49m\u001b[43mconn\u001b[49m\u001b[43m,\u001b[49m\n\u001b[0;32m    791\u001b[0m \u001b[43m    \u001b[49m\u001b[43mmethod\u001b[49m\u001b[43m,\u001b[49m\n\u001b[0;32m    792\u001b[0m \u001b[43m    \u001b[49m\u001b[43murl\u001b[49m\u001b[43m,\u001b[49m\n\u001b[0;32m    793\u001b[0m \u001b[43m    \u001b[49m\u001b[43mtimeout\u001b[49m\u001b[38;5;241;43m=\u001b[39;49m\u001b[43mtimeout_obj\u001b[49m\u001b[43m,\u001b[49m\n\u001b[0;32m    794\u001b[0m \u001b[43m    \u001b[49m\u001b[43mbody\u001b[49m\u001b[38;5;241;43m=\u001b[39;49m\u001b[43mbody\u001b[49m\u001b[43m,\u001b[49m\n\u001b[0;32m    795\u001b[0m \u001b[43m    \u001b[49m\u001b[43mheaders\u001b[49m\u001b[38;5;241;43m=\u001b[39;49m\u001b[43mheaders\u001b[49m\u001b[43m,\u001b[49m\n\u001b[0;32m    796\u001b[0m \u001b[43m    \u001b[49m\u001b[43mchunked\u001b[49m\u001b[38;5;241;43m=\u001b[39;49m\u001b[43mchunked\u001b[49m\u001b[43m,\u001b[49m\n\u001b[0;32m    797\u001b[0m \u001b[43m    \u001b[49m\u001b[43mretries\u001b[49m\u001b[38;5;241;43m=\u001b[39;49m\u001b[43mretries\u001b[49m\u001b[43m,\u001b[49m\n\u001b[0;32m    798\u001b[0m \u001b[43m    \u001b[49m\u001b[43mresponse_conn\u001b[49m\u001b[38;5;241;43m=\u001b[39;49m\u001b[43mresponse_conn\u001b[49m\u001b[43m,\u001b[49m\n\u001b[0;32m    799\u001b[0m \u001b[43m    \u001b[49m\u001b[43mpreload_content\u001b[49m\u001b[38;5;241;43m=\u001b[39;49m\u001b[43mpreload_content\u001b[49m\u001b[43m,\u001b[49m\n\u001b[0;32m    800\u001b[0m \u001b[43m    \u001b[49m\u001b[43mdecode_content\u001b[49m\u001b[38;5;241;43m=\u001b[39;49m\u001b[43mdecode_content\u001b[49m\u001b[43m,\u001b[49m\n\u001b[0;32m    801\u001b[0m \u001b[43m    \u001b[49m\u001b[38;5;241;43m*\u001b[39;49m\u001b[38;5;241;43m*\u001b[39;49m\u001b[43mresponse_kw\u001b[49m\u001b[43m,\u001b[49m\n\u001b[0;32m    802\u001b[0m \u001b[43m\u001b[49m\u001b[43m)\u001b[49m\n\u001b[0;32m    804\u001b[0m \u001b[38;5;66;03m# Everything went great!\u001b[39;00m\n",
      "File \u001b[1;32mc:\\Users\\rosha\\anaconda3\\Lib\\site-packages\\urllib3\\connectionpool.py:490\u001b[0m, in \u001b[0;36mHTTPConnectionPool._make_request\u001b[1;34m(self, conn, method, url, body, headers, retries, timeout, chunked, response_conn, preload_content, decode_content, enforce_content_length)\u001b[0m\n\u001b[0;32m    489\u001b[0m         new_e \u001b[38;5;241m=\u001b[39m _wrap_proxy_error(new_e, conn\u001b[38;5;241m.\u001b[39mproxy\u001b[38;5;241m.\u001b[39mscheme)\n\u001b[1;32m--> 490\u001b[0m     \u001b[38;5;28;01mraise\u001b[39;00m new_e\n\u001b[0;32m    492\u001b[0m \u001b[38;5;66;03m# conn.request() calls http.client.*.request, not the method in\u001b[39;00m\n\u001b[0;32m    493\u001b[0m \u001b[38;5;66;03m# urllib3.request. It also calls makefile (recv) on the socket.\u001b[39;00m\n",
      "File \u001b[1;32mc:\\Users\\rosha\\anaconda3\\Lib\\site-packages\\urllib3\\connectionpool.py:466\u001b[0m, in \u001b[0;36mHTTPConnectionPool._make_request\u001b[1;34m(self, conn, method, url, body, headers, retries, timeout, chunked, response_conn, preload_content, decode_content, enforce_content_length)\u001b[0m\n\u001b[0;32m    465\u001b[0m \u001b[38;5;28;01mtry\u001b[39;00m:\n\u001b[1;32m--> 466\u001b[0m     \u001b[38;5;28;43mself\u001b[39;49m\u001b[38;5;241;43m.\u001b[39;49m\u001b[43m_validate_conn\u001b[49m\u001b[43m(\u001b[49m\u001b[43mconn\u001b[49m\u001b[43m)\u001b[49m\n\u001b[0;32m    467\u001b[0m \u001b[38;5;28;01mexcept\u001b[39;00m (SocketTimeout, BaseSSLError) \u001b[38;5;28;01mas\u001b[39;00m e:\n",
      "File \u001b[1;32mc:\\Users\\rosha\\anaconda3\\Lib\\site-packages\\urllib3\\connectionpool.py:1095\u001b[0m, in \u001b[0;36mHTTPSConnectionPool._validate_conn\u001b[1;34m(self, conn)\u001b[0m\n\u001b[0;32m   1094\u001b[0m \u001b[38;5;28;01mif\u001b[39;00m conn\u001b[38;5;241m.\u001b[39mis_closed:\n\u001b[1;32m-> 1095\u001b[0m     \u001b[43mconn\u001b[49m\u001b[38;5;241;43m.\u001b[39;49m\u001b[43mconnect\u001b[49m\u001b[43m(\u001b[49m\u001b[43m)\u001b[49m\n\u001b[0;32m   1097\u001b[0m \u001b[38;5;66;03m# TODO revise this, see https://github.com/urllib3/urllib3/issues/2791\u001b[39;00m\n",
      "File \u001b[1;32mc:\\Users\\rosha\\anaconda3\\Lib\\site-packages\\urllib3\\connection.py:615\u001b[0m, in \u001b[0;36mHTTPSConnection.connect\u001b[1;34m(self)\u001b[0m\n\u001b[0;32m    614\u001b[0m sock: socket\u001b[38;5;241m.\u001b[39msocket \u001b[38;5;241m|\u001b[39m ssl\u001b[38;5;241m.\u001b[39mSSLSocket\n\u001b[1;32m--> 615\u001b[0m \u001b[38;5;28mself\u001b[39m\u001b[38;5;241m.\u001b[39msock \u001b[38;5;241m=\u001b[39m sock \u001b[38;5;241m=\u001b[39m \u001b[38;5;28;43mself\u001b[39;49m\u001b[38;5;241;43m.\u001b[39;49m\u001b[43m_new_conn\u001b[49m\u001b[43m(\u001b[49m\u001b[43m)\u001b[49m\n\u001b[0;32m    616\u001b[0m server_hostname: \u001b[38;5;28mstr\u001b[39m \u001b[38;5;241m=\u001b[39m \u001b[38;5;28mself\u001b[39m\u001b[38;5;241m.\u001b[39mhost\n",
      "File \u001b[1;32mc:\\Users\\rosha\\anaconda3\\Lib\\site-packages\\urllib3\\connection.py:205\u001b[0m, in \u001b[0;36mHTTPConnection._new_conn\u001b[1;34m(self)\u001b[0m\n\u001b[0;32m    204\u001b[0m \u001b[38;5;28;01mexcept\u001b[39;00m SocketTimeout \u001b[38;5;28;01mas\u001b[39;00m e:\n\u001b[1;32m--> 205\u001b[0m     \u001b[38;5;28;01mraise\u001b[39;00m ConnectTimeoutError(\n\u001b[0;32m    206\u001b[0m         \u001b[38;5;28mself\u001b[39m,\n\u001b[0;32m    207\u001b[0m         \u001b[38;5;124mf\u001b[39m\u001b[38;5;124m\"\u001b[39m\u001b[38;5;124mConnection to \u001b[39m\u001b[38;5;132;01m{\u001b[39;00m\u001b[38;5;28mself\u001b[39m\u001b[38;5;241m.\u001b[39mhost\u001b[38;5;132;01m}\u001b[39;00m\u001b[38;5;124m timed out. (connect timeout=\u001b[39m\u001b[38;5;132;01m{\u001b[39;00m\u001b[38;5;28mself\u001b[39m\u001b[38;5;241m.\u001b[39mtimeout\u001b[38;5;132;01m}\u001b[39;00m\u001b[38;5;124m)\u001b[39m\u001b[38;5;124m\"\u001b[39m,\n\u001b[0;32m    208\u001b[0m     ) \u001b[38;5;28;01mfrom\u001b[39;00m \u001b[38;5;21;01me\u001b[39;00m\n\u001b[0;32m    210\u001b[0m \u001b[38;5;28;01mexcept\u001b[39;00m \u001b[38;5;167;01mOSError\u001b[39;00m \u001b[38;5;28;01mas\u001b[39;00m e:\n",
      "\u001b[1;31mConnectTimeoutError\u001b[0m: (<urllib3.connection.HTTPSConnection object at 0x0000023056C11B20>, 'Connection to openepd.buildingtransparency.org timed out. (connect timeout=None)')",
      "\nThe above exception was the direct cause of the following exception:\n",
      "\u001b[1;31mMaxRetryError\u001b[0m                             Traceback (most recent call last)",
      "File \u001b[1;32mc:\\Users\\rosha\\anaconda3\\Lib\\site-packages\\requests\\adapters.py:589\u001b[0m, in \u001b[0;36mHTTPAdapter.send\u001b[1;34m(self, request, stream, timeout, verify, cert, proxies)\u001b[0m\n\u001b[0;32m    588\u001b[0m \u001b[38;5;28;01mtry\u001b[39;00m:\n\u001b[1;32m--> 589\u001b[0m     resp \u001b[38;5;241m=\u001b[39m \u001b[43mconn\u001b[49m\u001b[38;5;241;43m.\u001b[39;49m\u001b[43murlopen\u001b[49m\u001b[43m(\u001b[49m\n\u001b[0;32m    590\u001b[0m \u001b[43m        \u001b[49m\u001b[43mmethod\u001b[49m\u001b[38;5;241;43m=\u001b[39;49m\u001b[43mrequest\u001b[49m\u001b[38;5;241;43m.\u001b[39;49m\u001b[43mmethod\u001b[49m\u001b[43m,\u001b[49m\n\u001b[0;32m    591\u001b[0m \u001b[43m        \u001b[49m\u001b[43murl\u001b[49m\u001b[38;5;241;43m=\u001b[39;49m\u001b[43murl\u001b[49m\u001b[43m,\u001b[49m\n\u001b[0;32m    592\u001b[0m \u001b[43m        \u001b[49m\u001b[43mbody\u001b[49m\u001b[38;5;241;43m=\u001b[39;49m\u001b[43mrequest\u001b[49m\u001b[38;5;241;43m.\u001b[39;49m\u001b[43mbody\u001b[49m\u001b[43m,\u001b[49m\n\u001b[0;32m    593\u001b[0m \u001b[43m        \u001b[49m\u001b[43mheaders\u001b[49m\u001b[38;5;241;43m=\u001b[39;49m\u001b[43mrequest\u001b[49m\u001b[38;5;241;43m.\u001b[39;49m\u001b[43mheaders\u001b[49m\u001b[43m,\u001b[49m\n\u001b[0;32m    594\u001b[0m \u001b[43m        \u001b[49m\u001b[43mredirect\u001b[49m\u001b[38;5;241;43m=\u001b[39;49m\u001b[38;5;28;43;01mFalse\u001b[39;49;00m\u001b[43m,\u001b[49m\n\u001b[0;32m    595\u001b[0m \u001b[43m        \u001b[49m\u001b[43massert_same_host\u001b[49m\u001b[38;5;241;43m=\u001b[39;49m\u001b[38;5;28;43;01mFalse\u001b[39;49;00m\u001b[43m,\u001b[49m\n\u001b[0;32m    596\u001b[0m \u001b[43m        \u001b[49m\u001b[43mpreload_content\u001b[49m\u001b[38;5;241;43m=\u001b[39;49m\u001b[38;5;28;43;01mFalse\u001b[39;49;00m\u001b[43m,\u001b[49m\n\u001b[0;32m    597\u001b[0m \u001b[43m        \u001b[49m\u001b[43mdecode_content\u001b[49m\u001b[38;5;241;43m=\u001b[39;49m\u001b[38;5;28;43;01mFalse\u001b[39;49;00m\u001b[43m,\u001b[49m\n\u001b[0;32m    598\u001b[0m \u001b[43m        \u001b[49m\u001b[43mretries\u001b[49m\u001b[38;5;241;43m=\u001b[39;49m\u001b[38;5;28;43mself\u001b[39;49m\u001b[38;5;241;43m.\u001b[39;49m\u001b[43mmax_retries\u001b[49m\u001b[43m,\u001b[49m\n\u001b[0;32m    599\u001b[0m \u001b[43m        \u001b[49m\u001b[43mtimeout\u001b[49m\u001b[38;5;241;43m=\u001b[39;49m\u001b[43mtimeout\u001b[49m\u001b[43m,\u001b[49m\n\u001b[0;32m    600\u001b[0m \u001b[43m        \u001b[49m\u001b[43mchunked\u001b[49m\u001b[38;5;241;43m=\u001b[39;49m\u001b[43mchunked\u001b[49m\u001b[43m,\u001b[49m\n\u001b[0;32m    601\u001b[0m \u001b[43m    \u001b[49m\u001b[43m)\u001b[49m\n\u001b[0;32m    603\u001b[0m \u001b[38;5;28;01mexcept\u001b[39;00m (ProtocolError, \u001b[38;5;167;01mOSError\u001b[39;00m) \u001b[38;5;28;01mas\u001b[39;00m err:\n",
      "File \u001b[1;32mc:\\Users\\rosha\\anaconda3\\Lib\\site-packages\\urllib3\\connectionpool.py:843\u001b[0m, in \u001b[0;36mHTTPConnectionPool.urlopen\u001b[1;34m(self, method, url, body, headers, retries, redirect, assert_same_host, timeout, pool_timeout, release_conn, chunked, body_pos, preload_content, decode_content, **response_kw)\u001b[0m\n\u001b[0;32m    841\u001b[0m     new_e \u001b[38;5;241m=\u001b[39m ProtocolError(\u001b[38;5;124m\"\u001b[39m\u001b[38;5;124mConnection aborted.\u001b[39m\u001b[38;5;124m\"\u001b[39m, new_e)\n\u001b[1;32m--> 843\u001b[0m retries \u001b[38;5;241m=\u001b[39m \u001b[43mretries\u001b[49m\u001b[38;5;241;43m.\u001b[39;49m\u001b[43mincrement\u001b[49m\u001b[43m(\u001b[49m\n\u001b[0;32m    844\u001b[0m \u001b[43m    \u001b[49m\u001b[43mmethod\u001b[49m\u001b[43m,\u001b[49m\u001b[43m \u001b[49m\u001b[43murl\u001b[49m\u001b[43m,\u001b[49m\u001b[43m \u001b[49m\u001b[43merror\u001b[49m\u001b[38;5;241;43m=\u001b[39;49m\u001b[43mnew_e\u001b[49m\u001b[43m,\u001b[49m\u001b[43m \u001b[49m\u001b[43m_pool\u001b[49m\u001b[38;5;241;43m=\u001b[39;49m\u001b[38;5;28;43mself\u001b[39;49m\u001b[43m,\u001b[49m\u001b[43m \u001b[49m\u001b[43m_stacktrace\u001b[49m\u001b[38;5;241;43m=\u001b[39;49m\u001b[43msys\u001b[49m\u001b[38;5;241;43m.\u001b[39;49m\u001b[43mexc_info\u001b[49m\u001b[43m(\u001b[49m\u001b[43m)\u001b[49m\u001b[43m[\u001b[49m\u001b[38;5;241;43m2\u001b[39;49m\u001b[43m]\u001b[49m\n\u001b[0;32m    845\u001b[0m \u001b[43m\u001b[49m\u001b[43m)\u001b[49m\n\u001b[0;32m    846\u001b[0m retries\u001b[38;5;241m.\u001b[39msleep()\n",
      "File \u001b[1;32mc:\\Users\\rosha\\anaconda3\\Lib\\site-packages\\urllib3\\util\\retry.py:519\u001b[0m, in \u001b[0;36mRetry.increment\u001b[1;34m(self, method, url, response, error, _pool, _stacktrace)\u001b[0m\n\u001b[0;32m    518\u001b[0m     reason \u001b[38;5;241m=\u001b[39m error \u001b[38;5;129;01mor\u001b[39;00m ResponseError(cause)\n\u001b[1;32m--> 519\u001b[0m     \u001b[38;5;28;01mraise\u001b[39;00m MaxRetryError(_pool, url, reason) \u001b[38;5;28;01mfrom\u001b[39;00m \u001b[38;5;21;01mreason\u001b[39;00m  \u001b[38;5;66;03m# type: ignore[arg-type]\u001b[39;00m\n\u001b[0;32m    521\u001b[0m log\u001b[38;5;241m.\u001b[39mdebug(\u001b[38;5;124m\"\u001b[39m\u001b[38;5;124mIncremented Retry for (url=\u001b[39m\u001b[38;5;124m'\u001b[39m\u001b[38;5;132;01m%s\u001b[39;00m\u001b[38;5;124m'\u001b[39m\u001b[38;5;124m): \u001b[39m\u001b[38;5;132;01m%r\u001b[39;00m\u001b[38;5;124m\"\u001b[39m, url, new_retry)\n",
      "\u001b[1;31mMaxRetryError\u001b[0m: HTTPSConnectionPool(host='openepd.buildingtransparency.org', port=443): Max retries exceeded with url: /api/epds/ec337zxw (Caused by ConnectTimeoutError(<urllib3.connection.HTTPSConnection object at 0x0000023056C11B20>, 'Connection to openepd.buildingtransparency.org timed out. (connect timeout=None)'))",
      "\nDuring handling of the above exception, another exception occurred:\n",
      "\u001b[1;31mConnectTimeout\u001b[0m                            Traceback (most recent call last)",
      "Cell \u001b[1;32mIn[4], line 10\u001b[0m\n\u001b[0;32m      8\u001b[0m time\u001b[38;5;241m.\u001b[39msleep(\u001b[38;5;241m.25\u001b[39m)\n\u001b[0;32m      9\u001b[0m xpdID \u001b[38;5;241m=\u001b[39m EC3_epds[i][\u001b[38;5;124m'\u001b[39m\u001b[38;5;124mopen_xpd_uuid\u001b[39m\u001b[38;5;124m'\u001b[39m]\n\u001b[1;32m---> 10\u001b[0m response_impact \u001b[38;5;241m=\u001b[39m \u001b[43mrequests\u001b[49m\u001b[38;5;241;43m.\u001b[39;49m\u001b[43mget\u001b[49m\u001b[43m(\u001b[49m\u001b[43mimpact_info_url\u001b[49m\u001b[38;5;241;43m+\u001b[39;49m\u001b[43mxpdID\u001b[49m\u001b[43m,\u001b[49m\u001b[43m \u001b[49m\u001b[43mheaders\u001b[49m\u001b[38;5;241;43m=\u001b[39;49m\u001b[43mheaders\u001b[49m\u001b[43m)\u001b[49m\n\u001b[0;32m     11\u001b[0m epd_impacts\u001b[38;5;241m.\u001b[39mappend(response_impact\u001b[38;5;241m.\u001b[39mjson())\n\u001b[0;32m     12\u001b[0m \u001b[38;5;28;01mif\u001b[39;00m i \u001b[38;5;241m%\u001b[39m \u001b[38;5;241m25\u001b[39m \u001b[38;5;241m==\u001b[39m \u001b[38;5;241m0\u001b[39m:\n",
      "File \u001b[1;32mc:\\Users\\rosha\\anaconda3\\Lib\\site-packages\\requests\\api.py:73\u001b[0m, in \u001b[0;36mget\u001b[1;34m(url, params, **kwargs)\u001b[0m\n\u001b[0;32m     62\u001b[0m \u001b[38;5;28;01mdef\u001b[39;00m \u001b[38;5;21mget\u001b[39m(url, params\u001b[38;5;241m=\u001b[39m\u001b[38;5;28;01mNone\u001b[39;00m, \u001b[38;5;241m*\u001b[39m\u001b[38;5;241m*\u001b[39mkwargs):\n\u001b[0;32m     63\u001b[0m \u001b[38;5;250m    \u001b[39m\u001b[38;5;124mr\u001b[39m\u001b[38;5;124;03m\"\"\"Sends a GET request.\u001b[39;00m\n\u001b[0;32m     64\u001b[0m \n\u001b[0;32m     65\u001b[0m \u001b[38;5;124;03m    :param url: URL for the new :class:`Request` object.\u001b[39;00m\n\u001b[1;32m   (...)\u001b[0m\n\u001b[0;32m     70\u001b[0m \u001b[38;5;124;03m    :rtype: requests.Response\u001b[39;00m\n\u001b[0;32m     71\u001b[0m \u001b[38;5;124;03m    \"\"\"\u001b[39;00m\n\u001b[1;32m---> 73\u001b[0m     \u001b[38;5;28;01mreturn\u001b[39;00m \u001b[43mrequest\u001b[49m\u001b[43m(\u001b[49m\u001b[38;5;124;43m\"\u001b[39;49m\u001b[38;5;124;43mget\u001b[39;49m\u001b[38;5;124;43m\"\u001b[39;49m\u001b[43m,\u001b[49m\u001b[43m \u001b[49m\u001b[43murl\u001b[49m\u001b[43m,\u001b[49m\u001b[43m \u001b[49m\u001b[43mparams\u001b[49m\u001b[38;5;241;43m=\u001b[39;49m\u001b[43mparams\u001b[49m\u001b[43m,\u001b[49m\u001b[43m \u001b[49m\u001b[38;5;241;43m*\u001b[39;49m\u001b[38;5;241;43m*\u001b[39;49m\u001b[43mkwargs\u001b[49m\u001b[43m)\u001b[49m\n",
      "File \u001b[1;32mc:\\Users\\rosha\\anaconda3\\Lib\\site-packages\\requests\\api.py:59\u001b[0m, in \u001b[0;36mrequest\u001b[1;34m(method, url, **kwargs)\u001b[0m\n\u001b[0;32m     55\u001b[0m \u001b[38;5;66;03m# By using the 'with' statement we are sure the session is closed, thus we\u001b[39;00m\n\u001b[0;32m     56\u001b[0m \u001b[38;5;66;03m# avoid leaving sockets open which can trigger a ResourceWarning in some\u001b[39;00m\n\u001b[0;32m     57\u001b[0m \u001b[38;5;66;03m# cases, and look like a memory leak in others.\u001b[39;00m\n\u001b[0;32m     58\u001b[0m \u001b[38;5;28;01mwith\u001b[39;00m sessions\u001b[38;5;241m.\u001b[39mSession() \u001b[38;5;28;01mas\u001b[39;00m session:\n\u001b[1;32m---> 59\u001b[0m     \u001b[38;5;28;01mreturn\u001b[39;00m \u001b[43msession\u001b[49m\u001b[38;5;241;43m.\u001b[39;49m\u001b[43mrequest\u001b[49m\u001b[43m(\u001b[49m\u001b[43mmethod\u001b[49m\u001b[38;5;241;43m=\u001b[39;49m\u001b[43mmethod\u001b[49m\u001b[43m,\u001b[49m\u001b[43m \u001b[49m\u001b[43murl\u001b[49m\u001b[38;5;241;43m=\u001b[39;49m\u001b[43murl\u001b[49m\u001b[43m,\u001b[49m\u001b[43m \u001b[49m\u001b[38;5;241;43m*\u001b[39;49m\u001b[38;5;241;43m*\u001b[39;49m\u001b[43mkwargs\u001b[49m\u001b[43m)\u001b[49m\n",
      "File \u001b[1;32mc:\\Users\\rosha\\anaconda3\\Lib\\site-packages\\requests\\sessions.py:589\u001b[0m, in \u001b[0;36mSession.request\u001b[1;34m(self, method, url, params, data, headers, cookies, files, auth, timeout, allow_redirects, proxies, hooks, stream, verify, cert, json)\u001b[0m\n\u001b[0;32m    584\u001b[0m send_kwargs \u001b[38;5;241m=\u001b[39m {\n\u001b[0;32m    585\u001b[0m     \u001b[38;5;124m\"\u001b[39m\u001b[38;5;124mtimeout\u001b[39m\u001b[38;5;124m\"\u001b[39m: timeout,\n\u001b[0;32m    586\u001b[0m     \u001b[38;5;124m\"\u001b[39m\u001b[38;5;124mallow_redirects\u001b[39m\u001b[38;5;124m\"\u001b[39m: allow_redirects,\n\u001b[0;32m    587\u001b[0m }\n\u001b[0;32m    588\u001b[0m send_kwargs\u001b[38;5;241m.\u001b[39mupdate(settings)\n\u001b[1;32m--> 589\u001b[0m resp \u001b[38;5;241m=\u001b[39m \u001b[38;5;28;43mself\u001b[39;49m\u001b[38;5;241;43m.\u001b[39;49m\u001b[43msend\u001b[49m\u001b[43m(\u001b[49m\u001b[43mprep\u001b[49m\u001b[43m,\u001b[49m\u001b[43m \u001b[49m\u001b[38;5;241;43m*\u001b[39;49m\u001b[38;5;241;43m*\u001b[39;49m\u001b[43msend_kwargs\u001b[49m\u001b[43m)\u001b[49m\n\u001b[0;32m    591\u001b[0m \u001b[38;5;28;01mreturn\u001b[39;00m resp\n",
      "File \u001b[1;32mc:\\Users\\rosha\\anaconda3\\Lib\\site-packages\\requests\\sessions.py:703\u001b[0m, in \u001b[0;36mSession.send\u001b[1;34m(self, request, **kwargs)\u001b[0m\n\u001b[0;32m    700\u001b[0m start \u001b[38;5;241m=\u001b[39m preferred_clock()\n\u001b[0;32m    702\u001b[0m \u001b[38;5;66;03m# Send the request\u001b[39;00m\n\u001b[1;32m--> 703\u001b[0m r \u001b[38;5;241m=\u001b[39m \u001b[43madapter\u001b[49m\u001b[38;5;241;43m.\u001b[39;49m\u001b[43msend\u001b[49m\u001b[43m(\u001b[49m\u001b[43mrequest\u001b[49m\u001b[43m,\u001b[49m\u001b[43m \u001b[49m\u001b[38;5;241;43m*\u001b[39;49m\u001b[38;5;241;43m*\u001b[39;49m\u001b[43mkwargs\u001b[49m\u001b[43m)\u001b[49m\n\u001b[0;32m    705\u001b[0m \u001b[38;5;66;03m# Total elapsed time of the request (approximately)\u001b[39;00m\n\u001b[0;32m    706\u001b[0m elapsed \u001b[38;5;241m=\u001b[39m preferred_clock() \u001b[38;5;241m-\u001b[39m start\n",
      "File \u001b[1;32mc:\\Users\\rosha\\anaconda3\\Lib\\site-packages\\requests\\adapters.py:610\u001b[0m, in \u001b[0;36mHTTPAdapter.send\u001b[1;34m(self, request, stream, timeout, verify, cert, proxies)\u001b[0m\n\u001b[0;32m    607\u001b[0m \u001b[38;5;28;01mif\u001b[39;00m \u001b[38;5;28misinstance\u001b[39m(e\u001b[38;5;241m.\u001b[39mreason, ConnectTimeoutError):\n\u001b[0;32m    608\u001b[0m     \u001b[38;5;66;03m# TODO: Remove this in 3.0.0: see #2811\u001b[39;00m\n\u001b[0;32m    609\u001b[0m     \u001b[38;5;28;01mif\u001b[39;00m \u001b[38;5;129;01mnot\u001b[39;00m \u001b[38;5;28misinstance\u001b[39m(e\u001b[38;5;241m.\u001b[39mreason, NewConnectionError):\n\u001b[1;32m--> 610\u001b[0m         \u001b[38;5;28;01mraise\u001b[39;00m ConnectTimeout(e, request\u001b[38;5;241m=\u001b[39mrequest)\n\u001b[0;32m    612\u001b[0m \u001b[38;5;28;01mif\u001b[39;00m \u001b[38;5;28misinstance\u001b[39m(e\u001b[38;5;241m.\u001b[39mreason, ResponseError):\n\u001b[0;32m    613\u001b[0m     \u001b[38;5;28;01mraise\u001b[39;00m RetryError(e, request\u001b[38;5;241m=\u001b[39mrequest)\n",
      "\u001b[1;31mConnectTimeout\u001b[0m: HTTPSConnectionPool(host='openepd.buildingtransparency.org', port=443): Max retries exceeded with url: /api/epds/ec337zxw (Caused by ConnectTimeoutError(<urllib3.connection.HTTPSConnection object at 0x0000023056C11B20>, 'Connection to openepd.buildingtransparency.org timed out. (connect timeout=None)'))"
     ]
    }
   ],
   "source": [
    "import time\n",
    "\n",
    "epd_impacts = []\n",
    "impact_info_url = \"https://openepd.buildingtransparency.org/api/epds/\"\n",
    "\n",
    "\n",
    "for i in range(0,351):\n",
    "    time.sleep(.25)\n",
    "    xpdID = EC3_epds[i]['open_xpd_uuid']\n",
    "    response_impact = requests.get(impact_info_url+xpdID, headers=headers)\n",
    "    epd_impacts.append(response_impact.json())\n",
    "    if i % 25 == 0:\n",
    "        print(f'done with impact {i}')"
   ]
  },
  {
   "cell_type": "code",
   "execution_count": 10,
   "metadata": {},
   "outputs": [
    {
     "data": {
      "text/plain": [
       "{'detail': 'Request was throttled. Expected available in 2 seconds.'}"
      ]
     },
     "execution_count": 10,
     "metadata": {},
     "output_type": "execute_result"
    }
   ],
   "source": [
    "epd_impacts[38]"
   ]
  },
  {
   "cell_type": "code",
   "execution_count": null,
   "metadata": {},
   "outputs": [],
   "source": [
    "impact_data = {\n",
    "\n",
    "        f\"{lcia}\": {\n",
    "            \"gwp_total\": {\n",
    "            \"A1_A3\": epd_impacts[17]['impacts'][lcia]['gwp'][\"A1A2A3\"]['mean'],\n",
    "            \"C2\": epd_impacts[0]['impacts'][lcia]['gwp']['C2'],\n",
    "            \"C3\": epd_impacts[0]['impacts'][lcia]['gwp']['C3'],\n",
    "            \"C4\": epd_impacts[0]['impacts'][lcia]['gwp']['C4'],\n",
    "            \"D1\": epd_impacts[0]['impacts'][lcia]['gwp']['D']\n",
    "            },\n",
    "        }\n",
    "}\n",
    "\n",
    "print(impact_data)"
   ]
  },
  {
   "cell_type": "code",
   "execution_count": 7,
   "metadata": {},
   "outputs": [],
   "source": [
    "def string_split(s):\n",
    "    parts = s.split(' ', 1)\n",
    "    \n",
    "    magnitude = float(parts[0])\n",
    "    unit = parts[1]\n",
    "    \n",
    "    return magnitude, unit\n"
   ]
  },
  {
   "cell_type": "code",
   "execution_count": 8,
   "metadata": {},
   "outputs": [
    {
     "name": "stdout",
     "output_type": "stream",
     "text": [
      "json #0 is done\n",
      "json #1 is done\n",
      "json #2 is done\n",
      "json #3 is done\n",
      "json #4 is done\n",
      "json #5 is done\n",
      "json #6 is done\n",
      "json #7 is done\n",
      "json #8 is done\n",
      "json #9 is done\n",
      "json #10 is done\n",
      "json #11 is done\n",
      "json #12 is done\n",
      "json #13 is done\n",
      "json #14 is done\n",
      "json #15 is done\n",
      "json #16 is done\n",
      "json #17 is done\n",
      "json #18 is done\n",
      "json #19 is done\n",
      "json #20 is done\n",
      "json #21 is done\n",
      "json #22 is done\n",
      "json #23 is done\n",
      "json #24 is done\n",
      "json #25 is done\n",
      "json #26 is done\n",
      "json #27 is done\n",
      "json #28 is done\n",
      "json #29 is done\n",
      "json #30 is done\n",
      "json #31 is done\n",
      "json #32 is done\n",
      "json #33 is done\n",
      "json #34 is done\n",
      "json #35 is done\n",
      "json #36 is done\n"
     ]
    },
    {
     "ename": "KeyError",
     "evalue": "'impacts'",
     "output_type": "error",
     "traceback": [
      "\u001b[1;31m---------------------------------------------------------------------------\u001b[0m",
      "\u001b[1;31mKeyError\u001b[0m                                  Traceback (most recent call last)",
      "Cell \u001b[1;32mIn[8], line 101\u001b[0m\n\u001b[0;32m     94\u001b[0m sdens \u001b[38;5;241m=\u001b[39m EC3_epds[x][\u001b[38;5;124m'\u001b[39m\u001b[38;5;124mspecific_density\u001b[39m\u001b[38;5;124m'\u001b[39m]\n\u001b[0;32m     96\u001b[0m \u001b[38;5;66;03m#try:\u001b[39;00m\n\u001b[0;32m     97\u001b[0m impact_data \u001b[38;5;241m=\u001b[39m {\n\u001b[0;32m     98\u001b[0m \n\u001b[0;32m     99\u001b[0m     \u001b[38;5;124mf\u001b[39m\u001b[38;5;124m\"\u001b[39m\u001b[38;5;132;01m{\u001b[39;00mlcia\u001b[38;5;132;01m}\u001b[39;00m\u001b[38;5;124m\"\u001b[39m: {\n\u001b[0;32m    100\u001b[0m         \u001b[38;5;124m\"\u001b[39m\u001b[38;5;124mgwp_total\u001b[39m\u001b[38;5;124m\"\u001b[39m: {\n\u001b[1;32m--> 101\u001b[0m         \u001b[38;5;124m\"\u001b[39m\u001b[38;5;124mA1_A3\u001b[39m\u001b[38;5;124m\"\u001b[39m: \u001b[43mepd_impacts\u001b[49m\u001b[43m[\u001b[49m\u001b[43mx\u001b[49m\u001b[43m]\u001b[49m\u001b[43m[\u001b[49m\u001b[38;5;124;43m'\u001b[39;49m\u001b[38;5;124;43mimpacts\u001b[39;49m\u001b[38;5;124;43m'\u001b[39;49m\u001b[43m]\u001b[49m[lcia][\u001b[38;5;124m'\u001b[39m\u001b[38;5;124mgwp\u001b[39m\u001b[38;5;124m'\u001b[39m][\u001b[38;5;124m\"\u001b[39m\u001b[38;5;124mA1A2A3\u001b[39m\u001b[38;5;124m\"\u001b[39m][\u001b[38;5;124m'\u001b[39m\u001b[38;5;124mmean\u001b[39m\u001b[38;5;124m'\u001b[39m],\n\u001b[0;32m    102\u001b[0m         \u001b[38;5;124m\"\u001b[39m\u001b[38;5;124mC2\u001b[39m\u001b[38;5;124m\"\u001b[39m: epd_impacts[x][\u001b[38;5;124m'\u001b[39m\u001b[38;5;124mimpacts\u001b[39m\u001b[38;5;124m'\u001b[39m][lcia][\u001b[38;5;124m'\u001b[39m\u001b[38;5;124mgwp\u001b[39m\u001b[38;5;124m'\u001b[39m][\u001b[38;5;124m'\u001b[39m\u001b[38;5;124mC2\u001b[39m\u001b[38;5;124m'\u001b[39m],\n\u001b[0;32m    103\u001b[0m         \u001b[38;5;124m\"\u001b[39m\u001b[38;5;124mC3\u001b[39m\u001b[38;5;124m\"\u001b[39m: epd_impacts[x][\u001b[38;5;124m'\u001b[39m\u001b[38;5;124mimpacts\u001b[39m\u001b[38;5;124m'\u001b[39m][lcia][\u001b[38;5;124m'\u001b[39m\u001b[38;5;124mgwp\u001b[39m\u001b[38;5;124m'\u001b[39m][\u001b[38;5;124m'\u001b[39m\u001b[38;5;124mC3\u001b[39m\u001b[38;5;124m'\u001b[39m],\n\u001b[0;32m    104\u001b[0m         \u001b[38;5;124m\"\u001b[39m\u001b[38;5;124mC4\u001b[39m\u001b[38;5;124m\"\u001b[39m: epd_impacts[x][\u001b[38;5;124m'\u001b[39m\u001b[38;5;124mimpacts\u001b[39m\u001b[38;5;124m'\u001b[39m][lcia][\u001b[38;5;124m'\u001b[39m\u001b[38;5;124mgwp\u001b[39m\u001b[38;5;124m'\u001b[39m][\u001b[38;5;124m'\u001b[39m\u001b[38;5;124mC4\u001b[39m\u001b[38;5;124m'\u001b[39m],\n\u001b[0;32m    105\u001b[0m         \u001b[38;5;124m\"\u001b[39m\u001b[38;5;124mD1\u001b[39m\u001b[38;5;124m\"\u001b[39m: epd_impacts[x][\u001b[38;5;124m'\u001b[39m\u001b[38;5;124mimpacts\u001b[39m\u001b[38;5;124m'\u001b[39m][lcia][\u001b[38;5;124m'\u001b[39m\u001b[38;5;124mgwp\u001b[39m\u001b[38;5;124m'\u001b[39m][\u001b[38;5;124m'\u001b[39m\u001b[38;5;124mD\u001b[39m\u001b[38;5;124m'\u001b[39m]\n\u001b[0;32m    106\u001b[0m         },\n\u001b[0;32m    107\u001b[0m         \u001b[38;5;66;03m# \"gwp_fossil\": {\u001b[39;00m\n\u001b[0;32m    108\u001b[0m         \u001b[38;5;66;03m# \"A1_A3\": 2.0,\u001b[39;00m\n\u001b[0;32m    109\u001b[0m         \u001b[38;5;66;03m# \"C2\": 0.1,\u001b[39;00m\n\u001b[0;32m    110\u001b[0m         \u001b[38;5;66;03m# \"C3\": 0.04,\u001b[39;00m\n\u001b[0;32m    111\u001b[0m         \u001b[38;5;66;03m# \"C4\": 0.01,\u001b[39;00m\n\u001b[0;32m    112\u001b[0m         \u001b[38;5;66;03m# \"D1\": -0.48\u001b[39;00m\n\u001b[0;32m    113\u001b[0m         \u001b[38;5;66;03m# }\u001b[39;00m\n\u001b[0;32m    114\u001b[0m     },\n\u001b[0;32m    115\u001b[0m     \u001b[38;5;124m\"\u001b[39m\u001b[38;5;124mcharacteristics\u001b[39m\u001b[38;5;124m\"\u001b[39m: {}\n\u001b[0;32m    116\u001b[0m }\n\u001b[0;32m    118\u001b[0m material_data[\u001b[38;5;124m'\u001b[39m\u001b[38;5;124mimpacts\u001b[39m\u001b[38;5;124m'\u001b[39m] \u001b[38;5;241m=\u001b[39m impact_data\n\u001b[0;32m    119\u001b[0m \u001b[38;5;66;03m# except KeyError:\u001b[39;00m\n\u001b[0;32m    120\u001b[0m \u001b[38;5;66;03m#     print(f'Key error on json #{x}')\u001b[39;00m\n\u001b[0;32m    121\u001b[0m \u001b[38;5;66;03m#     message = f'json {x} key error'\u001b[39;00m\n\u001b[0;32m    122\u001b[0m \u001b[38;5;66;03m#     error_epds.append(message)\u001b[39;00m\n\u001b[0;32m    123\u001b[0m \u001b[38;5;66;03m#     material_data.update({'characteristics':message})\u001b[39;00m\n",
      "\u001b[1;31mKeyError\u001b[0m: 'impacts'"
     ]
    }
   ],
   "source": [
    "from datetime import datetime\n",
    "import requests\n",
    "import json\n",
    "\n",
    "#category = ['GWP-total','GWP-biogenic','GWP-fossil','GWP-IOBC']\n",
    "\n",
    "headers = {\n",
    "    \"Accept\": \"application/json\",\n",
    "    \"Authorization\": \"Bearer \"+auth_key\n",
    "}\n",
    "\n",
    "product_epd_url = \"https://buildingtransparency.org/api/epds\"\n",
    "impact_info_url = \"https://openepd.buildingtransparency.org/api/epds/\"\n",
    "\n",
    "EPDs = []\n",
    "#EC3_epds = []\n",
    "product_epds = []\n",
    "error_epds = []\n",
    "none = \"Unmapped\"\n",
    "page = 0\n",
    "\n",
    "for x in range(0,225):\n",
    "    # if x % 250 == 0 or page == 0:\n",
    "    #     page += 1\n",
    "    #     EC3_epds.extend(get_page(page))\n",
    "\n",
    "\n",
    "    date_validity_ends_str = EC3_epds[x]['date_validity_ends']\n",
    "    #date_validity_ends = datetime.strptime(date_validity_ends_str, '%Y-%m-%d')\n",
    "\n",
    "    #if date_validity_ends < datetime.now():\n",
    "        #print(f\"EPD {x} expired, skipping...\")\n",
    "        #continue\n",
    "\n",
    "    # xpdID = EC3_epds[x]['open_xpd_uuid']\n",
    "    # response_impact = requests.get(impact_info_url+xpdID, headers=headers)\n",
    "    # impact = response_impact.json()\n",
    "\n",
    "    material_data = {} \n",
    "\n",
    "    ############################### DATA PATHS #################################\n",
    "    #lcia = list(EC3_epds[x]['pcr']['lcia_requirements'].keys())[0]\n",
    "\n",
    "    try:\n",
    "        lcia_requirements = EC3_epds[x]['pcr']['lcia_requirements']\n",
    "        if lcia_requirements is None:\n",
    "            raise ValueError(\"lcia_requirements is None\")\n",
    "\n",
    "        lcia = list(lcia_requirements.keys())[0]\n",
    "    except (AttributeError, ValueError) as e:\n",
    "        print(f\"Skipping index {x} due to missing or invalid lcia_requirements: {e}\")\n",
    "        error_epds.append(f'json {x} lcia error')\n",
    "        continue\n",
    "\n",
    "    transport_dist, transport_unit = string_split(EC3_epds[x]['category']['default_distance'])\n",
    "    dens, dens_unit = string_split(EC3_epds[x]['density'])\n",
    "    mass, mass_unit = string_split(EC3_epds[x]['category']['mass_per_declared_unit'])\n",
    "    \n",
    "\n",
    "    material_data['material_id'] = f'EC3_{EC3_epds[x]['category']['id']}'\n",
    "    material_data.update({'validity':{'gte':EC3_epds[x]['category']['created_on'], 'lte':date_validity_ends_str}})\n",
    "    material_data.update({'display_name':EC3_epds[x]['category']['display_name']})\n",
    "    material_data.update({\"source\": \"EC3 Product Specific EPDs\"})\n",
    "    material_data.update({'declared_unit':EC3_epds[x]['category']['declared_unit']})\n",
    "    material_data.update({'A4_transportation':{'mode':EC3_epds[x]['category']['default_transport_mode'], 'distance':{'qty':transport_dist, 'unit':transport_unit}}})\n",
    "    material_data.update({'service_life':EC3_epds[x]['reference_service_life']})\n",
    "    material_data.update({'waste_rate':none})\n",
    "    material_data.update({'density':{'qty':dens, 'unit':dens_unit}})\n",
    "    material_data.update({'item_mass':{'qty':mass, 'unit':mass_unit}})\n",
    "\n",
    "\n",
    "    # try:\n",
    "    #     material_data.update({'impacts':{lcia:{'gwp_total':{'A1_A3':epd_impacts['impacts'][lcia]['gwp'][\"A1A2A3\"]['mean'], 'C2':epd_impacts['impacts'][lcia]['gwp']['C2'], 'C3':epd_impacts['impacts'][lcia]['gwp']['C3'], 'C4':epd_impacts['impacts'][lcia]['gwp']['C4'], 'D':epd_impacts['impacts'][lcia]['gwp']['D']}}}})\n",
    "    # except KeyError:\n",
    "        # print(f'Key error on json #{x}')\n",
    "        # message = f'json {x} key error'\n",
    "        # error_epds.append(message)\n",
    "        # material_data.update({'characteristics':message})\n",
    "\n",
    "\n",
    "\n",
    "\n",
    "    desc = EC3_epds[x]['category']['description']\n",
    "    pcr_name = EC3_epds[x]['pcr']['name']\n",
    "    pcr_id = EC3_epds[x]['pcr']['id']\n",
    "    short_link = EC3_epds[x]['pcr']['short_link']\n",
    "    created_on = EC3_epds[x]['category']['created_on']\n",
    "\n",
    "    thckqty = EC3_epds[x]['thickness']\n",
    "    thckU = EC3_epds[x]['thickness_per_declared_unit']\n",
    "\n",
    "\n",
    "    dens = EC3_epds[x]['density']\n",
    "    sdens = EC3_epds[x]['specific_density']\n",
    "\n",
    "    #try:\n",
    "    impact_data = {\n",
    "\n",
    "        f\"{lcia}\": {\n",
    "            \"gwp_total\": {\n",
    "            \"A1_A3\": epd_impacts[x]['impacts'][lcia]['gwp'][\"A1A2A3\"]['mean'],\n",
    "            \"C2\": epd_impacts[x]['impacts'][lcia]['gwp']['C2'],\n",
    "            \"C3\": epd_impacts[x]['impacts'][lcia]['gwp']['C3'],\n",
    "            \"C4\": epd_impacts[x]['impacts'][lcia]['gwp']['C4'],\n",
    "            \"D1\": epd_impacts[x]['impacts'][lcia]['gwp']['D']\n",
    "            },\n",
    "            # \"gwp_fossil\": {\n",
    "            # \"A1_A3\": 2.0,\n",
    "            # \"C2\": 0.1,\n",
    "            # \"C3\": 0.04,\n",
    "            # \"C4\": 0.01,\n",
    "            # \"D1\": -0.48\n",
    "            # }\n",
    "        },\n",
    "        \"characteristics\": {}\n",
    "    }\n",
    "        \n",
    "    material_data['impacts'] = impact_data\n",
    "    # except KeyError:\n",
    "    #     print(f'Key error on json #{x}')\n",
    "    #     message = f'json {x} key error'\n",
    "    #     error_epds.append(message)\n",
    "    #     material_data.update({'characteristics':message})\n",
    "    \n",
    "    EPDs.append(material_data)\n",
    "    print(f'json #{x} is done')\n",
    "\n",
    "with open('epds.json', 'w') as json_file:\n",
    "    json.dump(EPDs, json_file, indent=4)\n",
    "\n",
    "print(\"All data saved to epds.json\")\n",
    "\n",
    "with open('error_epds.json', 'w') as json_file:\n",
    "    json.dump(error_epds, json_file, indent=4)\n",
    "\n",
    "print(\"All error data saved to epds.json\")\n"
   ]
  },
  {
   "cell_type": "code",
   "execution_count": 6,
   "metadata": {},
   "outputs": [
    {
     "data": {
      "text/plain": [
       "[{'material_id': 'b03dba1dca5b49acb1a5aa4daab546b4',\n",
       "  'validity': {'gte': '2018-06-26T01:11:48.938840Z', 'lte': '2021-10-03'},\n",
       "  'display_name': 'Ready Mix',\n",
       "  'source': 'Product Specific EPDs',\n",
       "  'declared_unit': '1 m3',\n",
       "  'A4_transportation': {'mode': 'concrete mixer truck',\n",
       "   'distance': {'qty': '51.49888 km', 'unit': 'km (plchlder)'}},\n",
       "  'service_life': None,\n",
       "  'waste_rate': 'Unmapped',\n",
       "  'density': {'qty': '2400 kg / m^3', 'unit': 'kg/m3 (plchlder)'},\n",
       "  'item_mass': {'qty': '2400 kg', 'unit': 'kg (plchlder)'},\n",
       "  'impacts': {'TRACI 2.1': {'gwp_total': {'A1_A3': 339.0,\n",
       "     'C2': None,\n",
       "     'C3': None,\n",
       "     'C4': None,\n",
       "     'D': None}}}}]"
      ]
     },
     "execution_count": 6,
     "metadata": {},
     "output_type": "execute_result"
    }
   ],
   "source": [
    "EPDs"
   ]
  },
  {
   "cell_type": "code",
   "execution_count": 12,
   "metadata": {},
   "outputs": [
    {
     "data": {
      "text/plain": [
       "'ec34u6kx'"
      ]
     },
     "execution_count": 12,
     "metadata": {},
     "output_type": "execute_result"
    }
   ],
   "source": [
    "#epd_data[0]['open_xpd_uuid']\n",
    "len(product_epd_ids)\n",
    "product_epd_ids[0]\n",
    "\n"
   ]
  },
  {
   "cell_type": "code",
   "execution_count": null,
   "metadata": {},
   "outputs": [],
   "source": []
  },
  {
   "cell_type": "code",
   "execution_count": 7,
   "metadata": {},
   "outputs": [],
   "source": [
    "import requests\n",
    "import json\n",
    "#ec3b6w55\n",
    "#ec36urza\n",
    "impact_info_url = \"https://openepd.buildingtransparency.org/api/epds/\"+\"ec3b6w55\"\n",
    "\n",
    "response_impact = requests.get(impact_info_url, headers=headers)\n",
    "resp = response_impact.json()\n",
    "\n",
    "file_path = 'impacts2.json'\n",
    "\n",
    "with open(file_path, 'w') as json_file:\n",
    "    json.dump(resp, json_file, indent=4)\n"
   ]
  },
  {
   "cell_type": "code",
   "execution_count": null,
   "metadata": {},
   "outputs": [],
   "source": [
    "    material_data = {\n",
    "        \"material_id\": 'to be assigned later',\n",
    "        \"display_name\": EPDname,\n",
    "        \"source\": none,\n",
    "        \"description\": f'{desc},',\n",
    "        #\"validity\": date_validity_ends_str,\n",
    "        \"reference_pcr\": {\n",
    "            \"name\": pcr_name,\n",
    "            \"id\": pcr_id,\n",
    "            \"link\": short_link\n",
    "        },\n",
    "        \"thickness\": {\n",
    "            \"qty\": thckqty,\n",
    "            \"unit\": thckU\n",
    "        },\n",
    "        \"service_life\": seLi,\n",
    "        \"waste_rate\": none,\n",
    "        \"transportation\": {\n",
    "            \"mode\": tMode,\n",
    "            \"distance\": dist\n",
    "        },\n",
    "        \"density\": {\n",
    "            \"qty\": dens,\n",
    "            \"unit\": none\n",
    "        },\n",
    "        \"linear_density\": {\n",
    "            \"qty\": sdens,\n",
    "            \"unit\": none\n",
    "        },\n",
    "        \"declared_unit\": unit,\n",
    "        \"lcia_method\": lcia,\n",
    "        \"background_database\": none,\n",
    "        \"impacts\": {\n",
    "            \"gwp_total\": {\n",
    "                #\"A1\": A11, \"A2\": A12, \"A3\": A13, \"A4\": A14, \"A5\": A15, \"C1\": C11,\n",
    "                #\"C2\": C12, \"C3\": C13, \"C4\": C14, \"D\": D1, \"D1\": D11, \"D2\": D12\n",
    "            },\n",
    "            \"gwp_biogenic\": {\n",
    "                #\"A1\": A21, \"A2\": A22, \"A3\": A23, \"A4\": A24, \"A5\": A25, \"C1\": C21,\n",
    "                #\"C2\": C22, \"C3\": C23, \"C4\": C24, \"D\": D2, \"D1\": D21, \"D2\": D22\n",
    "            },\n",
    "            \"gwp_fossil\": {\n",
    "                #\"A1\": A31, \"A2\": A32, \"A3\": A33, \"A4\": A34, \"A5\": A35, \"C1\": C31,\n",
    "                #\"C2\": C32, \"C3\": C33, \"C4\": C34, \"D\": D3, \"D1\": D31, \"D2\": D32\n",
    "            },\n",
    "            \"gwp_iobc\": {\n",
    "                #\"A1\": A41, \"A2\": A42, \"A3\": A43, \"A4\": A44, \"A5\": A45, \"C1\": C41,\n",
    "                #\"C2\": C42, \"C3\": C43, \"C4\": C44, \"D\": D4, \"D1\": D41, \"D2\": D42\n",
    "            }\n",
    "        },\n",
    "        \"characteristics\": {}\n",
    "    },"
   ]
  }
 ],
 "metadata": {
  "kernelspec": {
   "display_name": "base",
   "language": "python",
   "name": "python3"
  },
  "language_info": {
   "codemirror_mode": {
    "name": "ipython",
    "version": 3
   },
   "file_extension": ".py",
   "mimetype": "text/x-python",
   "name": "python",
   "nbconvert_exporter": "python",
   "pygments_lexer": "ipython3",
   "version": "3.12.4"
  }
 },
 "nbformat": 4,
 "nbformat_minor": 2
}
