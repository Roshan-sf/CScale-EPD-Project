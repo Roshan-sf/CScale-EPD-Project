{
 "cells": [
  {
   "cell_type": "code",
   "execution_count": 1,
   "metadata": {},
   "outputs": [],
   "source": [
    "import os\n",
    "import requests\n",
    "\n",
    "header = {\"Authorization\": \"Bearer \"+os.getenv(\"ECOPORTAL_TOKEN\"),\n",
    "          \"Content-Type\": \"application/json\"}\n",
    "\n",
    "api_url = ' https://data.eco-platform.org/resource/processes?search=true&distributed=true&virtual=true&metaDataOnly=false&validUntil=2022&format=JSON'\n",
    "\n",
    "response = requests.get(url=api_url, headers=header)\n",
    "results = response.json()"
   ]
  },
  {
   "cell_type": "code",
   "execution_count": 30,
   "metadata": {},
   "outputs": [
    {
     "name": "stdout",
     "output_type": "stream",
     "text": [
      "https://epdireland.lca-data.com/resource/processes/f256594a-a7bf-4bbb-91d0-65be256377c0?version=00.04.001&format=JSON\n"
     ]
    }
   ],
   "source": [
    "#just to test if it works\n",
    "import json\n",
    "\n",
    "num = 12\n",
    "\n",
    "uri = results['data'][num]['uri']\n",
    "version = results['data'][num]['version']\n",
    "api_url2 = f'{uri}&format=JSON'\n",
    "print(api_url2)\n",
    "response2 = requests.get(url=api_url2, headers=header)\n",
    "results2 = response2.json()\n",
    "#print(response2.json())"
   ]
  },
  {
   "cell_type": "code",
   "execution_count": 31,
   "metadata": {},
   "outputs": [
    {
     "data": {
      "text/plain": [
       "dict_keys(['processInformation', 'modellingAndValidation', 'administrativeInformation', 'exchanges', 'LCIAResults', 'version'])"
      ]
     },
     "execution_count": 31,
     "metadata": {},
     "output_type": "execute_result"
    }
   ],
   "source": [
    "results2.keys()"
   ]
  },
  {
   "cell_type": "code",
   "execution_count": 7,
   "metadata": {},
   "outputs": [],
   "source": [
    "def find_value(d, value, path=\"\"):\n",
    "    found = []\n",
    "\n",
    "    if isinstance(d, dict):\n",
    "        for key, dvalue in d.items():\n",
    "            new_path = f\"{path}.{key}\" if path else key\n",
    "            \n",
    "            if isinstance(dvalue, str) and value in dvalue: #added for partial match\n",
    "                found.append(new_path)\n",
    "            elif isinstance(dvalue, (dict, list)):\n",
    "                found.extend(find_value(dvalue, value, new_path))\n",
    "\n",
    "    elif isinstance(d, list):\n",
    "        for index, item in enumerate(d):\n",
    "            new_path = f\"{path}[{index}]\"\n",
    "\n",
    "            if isinstance(item, str) and value in item:\n",
    "                found.append(new_path)  #partial\n",
    "            elif isinstance(item, (dict, list)):\n",
    "                found.extend(find_value(item, value, new_path))\n",
    "\n",
    "    return found"
   ]
  },
  {
   "cell_type": "code",
   "execution_count": 5,
   "metadata": {},
   "outputs": [
    {
     "name": "stdout",
     "output_type": "stream",
     "text": [
      "[{'value': '0.208483718951', 'module': 'A1-A3'}, {'value': '0.011252400000', 'module': 'A4'}, {'name': 'referenceToUnitGroupDataSet', 'value': {'shortDescription': [{'value': 'kg SO2-Äqv.'}], 'type': 'unit group data set', 'refObjectId': 'bc50c624-a9bc-45b1-a9b0-e6b10d00476f', 'uri': '../unitgroups/bc50c624-a9bc-45b1-a9b0-e6b10d00476f'}}]\n"
     ]
    }
   ],
   "source": [
    "#results2.keys()\n",
    "\n",
    "results2['LCIAResults']['LCIAResult']\n",
    "\n",
    "\n",
    "num = 0\n",
    "A11 = results2['LCIAResults']['LCIAResult'][2]['other']['anies']\n",
    "\n",
    "print(A11)"
   ]
  },
  {
   "cell_type": "code",
   "execution_count": 23,
   "metadata": {},
   "outputs": [],
   "source": [
    "num2 = 1\n",
    "path = results2['LCIAResults']['LCIAResult']#[num2]['other']['anies']"
   ]
  },
  {
   "cell_type": "code",
   "execution_count": 28,
   "metadata": {},
   "outputs": [
    {
     "data": {
      "text/plain": [
       "['LCIAResults.LCIAResult[19].referenceToLCIAMethodDataSet.shortDescription[0].value',\n",
       " 'LCIAResults.LCIAResult[19].referenceToLCIAMethodDataSet.shortDescription[1].value']"
      ]
     },
     "execution_count": 28,
     "metadata": {},
     "output_type": "execute_result"
    }
   ],
   "source": [
    "find_value(results2, 'GWP-IOBC')\n",
    "\n",
    "#print(path[0]['value'])"
   ]
  },
  {
   "cell_type": "code",
   "execution_count": 20,
   "metadata": {},
   "outputs": [
    {
     "name": "stdout",
     "output_type": "stream",
     "text": [
      "1\n",
      "2\n",
      "3\n"
     ]
    }
   ],
   "source": [
    "def three():\n",
    "\n",
    "    a = 1\n",
    "    b = 2\n",
    "    c = 3\n",
    "\n",
    "    return (a,b,c)\n",
    "\n",
    "d,e,f = three()\n",
    "\n",
    "print(d)\n",
    "print(e)\n",
    "print(f)"
   ]
  },
  {
   "cell_type": "code",
   "execution_count": null,
   "metadata": {},
   "outputs": [],
   "source": []
  }
 ],
 "metadata": {
  "kernelspec": {
   "display_name": "base",
   "language": "python",
   "name": "python3"
  },
  "language_info": {
   "codemirror_mode": {
    "name": "ipython",
    "version": 3
   },
   "file_extension": ".py",
   "mimetype": "text/x-python",
   "name": "python",
   "nbconvert_exporter": "python",
   "pygments_lexer": "ipython3",
   "version": "3.12.4"
  }
 },
 "nbformat": 4,
 "nbformat_minor": 2
}
