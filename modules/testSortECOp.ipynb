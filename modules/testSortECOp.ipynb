{
 "cells": [
  {
   "cell_type": "code",
   "execution_count": 1,
   "metadata": {},
   "outputs": [],
   "source": [
    "import os\n",
    "header = {\"Authorization\": \"Bearer \"+os.getenv(\"ECOPORTAL_TOKEN\"),\n",
    "          \"Content-Type\": \"application/json\"}"
   ]
  },
  {
   "cell_type": "code",
   "execution_count": 3,
   "metadata": {},
   "outputs": [],
   "source": [
    "import os\n",
    "import requests\n",
    "\n",
    "header = {\"Authorization\": \"Bearer \"+os.getenv(\"ECOPORTAL_TOKEN\"),\n",
    "          \"Content-Type\": \"application/json\"}\n",
    "\n",
    "api_url = ' https://data.eco-platform.org/resource/processes?search=true&distributed=true&virtual=true&metaDataOnly=false&validUntil=2022&format=JSON'\n",
    "\n",
    "response = requests.get(url=api_url, headers=header)\n",
    "results = response.json()"
   ]
  },
  {
   "cell_type": "code",
   "execution_count": 5,
   "metadata": {},
   "outputs": [
    {
     "data": {
      "text/plain": [
       "{'languages': ['en'],\n",
       " 'name': ' ABb PMB, Skanska Industrial Solutions, Dalby asfaltverk',\n",
       " 'uuid': '94506cde-817c-4307-bef0-4a317b894e95',\n",
       " 'version': '00.06.000',\n",
       " 'geo': 'SE',\n",
       " 'classific': 'Bygg / Asfalt og pukk',\n",
       " 'classificId': '67dd3145-6d07-4939-8373-297d512803ca',\n",
       " 'classificSystem': 'EPDNorge',\n",
       " 'type': 'EPD',\n",
       " 'refYear': 2024,\n",
       " 'validUntil': 2029,\n",
       " 'compliance': [{'name': 'EN 15804+A2',\n",
       "   'uuid': 'c0016b33-8cf7-415c-ac6e-deba0d21440d'},\n",
       "  {'name': 'ISO 14025', 'uuid': '4f2eb655-6e44-4874-a95a-e28f5442cd4d'},\n",
       "  {'name': 'ISO 21930', 'uuid': '9c1e8451-2321-4498-b459-b6568b6b6547'}],\n",
       " 'subType': 'specific dataset',\n",
       " 'dataSources': [{'uuid': 'b497a91f-e14b-4b69-8f28-f50eb1576766'}],\n",
       " 'regNo': 'NEPD-5731-5030-EN',\n",
       " 'regAuthority': {'uuid': '7008caa3-6fea-4ad2-81eb-f2b7a0610e6c'},\n",
       " 'nodeid': 'EPD-NORWAY_DIGI',\n",
       " 'uri': 'https://epdnorway.lca-data.com/resource/datastocks/91413340-7bf0-4f88-a952-0f91cba685df/processes/94506cde-817c-4307-bef0-4a317b894e95?version=00.06.000',\n",
       " 'dsType': 'Process'}"
      ]
     },
     "execution_count": 5,
     "metadata": {},
     "output_type": "execute_result"
    }
   ],
   "source": [
    "results['data'][2]"
   ]
  },
  {
   "cell_type": "code",
   "execution_count": 7,
   "metadata": {},
   "outputs": [
    {
     "name": "stdout",
     "output_type": "stream",
     "text": [
      "https://epdnorway.lca-data.com/resource/datastocks/91413340-7bf0-4f88-a952-0f91cba685df/processes/7f73caec-8a20-41d2-9b7d-16c368bfe27e?version=00.03.000&format=JSON\n"
     ]
    }
   ],
   "source": [
    "#just to test if it works\n",
    "import json\n",
    "\n",
    "baseURL = 'https://epdnorway.lca-data.com/resource/datastocks/91413340-7bf0-4f88-a952-0f91cba685df/processes/'\n",
    "baseURL2 = 'https://ibudata.lca-data.com/resource/datastocks/7f92c48a-07c6-4a0c-91fd-4166e6138402/processes/'\n",
    "baseURL3 = 'https://node.epditaly.it/resource/processes/'\n",
    "num = 10\n",
    "\n",
    "uuid = results['data'][num]['uuid']\n",
    "version = results['data'][num]['version']\n",
    "api_url2 = f'{baseURL}{uuid}?version={version}&format=JSON'\n",
    "print(api_url2)\n",
    "response2 = requests.get(url=api_url2, headers=header)\n",
    "results2 = response2.json()\n",
    "#print(response2.json())\n",
    "\n",
    "filename = f'ECOplatformEPDS_{num}.json'\n",
    "with open(filename, 'w') as json_file:\n",
    "    json.dump(results2, json_file, indent=4)"
   ]
  },
  {
   "cell_type": "code",
   "execution_count": 55,
   "metadata": {},
   "outputs": [
    {
     "data": {
      "text/plain": [
       "dict_keys(['processInformation', 'modellingAndValidation', 'administrativeInformation', 'exchanges', 'LCIAResults', 'otherAttributes', 'version'])"
      ]
     },
     "execution_count": 55,
     "metadata": {},
     "output_type": "execute_result"
    }
   ],
   "source": [
    "results2.keys()"
   ]
  },
  {
   "cell_type": "code",
   "execution_count": 64,
   "metadata": {},
   "outputs": [
    {
     "data": {
      "text/plain": [
       "{'value': '28.080406147473', 'module': 'A1-A3'}"
      ]
     },
     "execution_count": 64,
     "metadata": {},
     "output_type": "execute_result"
    }
   ],
   "source": [
    "results2['LCIAResults']['LCIAResult'][1]['other']['anies'][0]"
   ]
  },
  {
   "cell_type": "code",
   "execution_count": 3,
   "metadata": {},
   "outputs": [
    {
     "name": "stdout",
     "output_type": "stream",
     "text": [
      " ABb PMB, Skanska Industrial Solutions, Dalby asfaltverk Done\n",
      " ABb, Skanska Industrial Solutions, Dalby asfaltverk Done\n",
      " AG, Skanska Industrial Solutions, Dalby asfaltverk Done\n",
      " AG, Skanska Industrial Solutions, Luleå Asfaltverk Done\n",
      " AXLJ-RMF Eco Cable 3x240/35 LT 12kV Done\n",
      " Betonelement Grå væg Done\n",
      " Betonelement Væg C35 Passiv Done\n",
      " Bewi Finland Oy EPS Lattia Done\n",
      " Birsta S N2 W4 c/c4  m Done\n"
     ]
    }
   ],
   "source": [
    "lst = []\n",
    "\n",
    "for x in range(2,11):\n",
    "    num = x\n",
    "    baseURL = 'https://epdnorway.lca-data.com/resource/datastocks/91413340-7bf0-4f88-a952-0f91cba685df/processes/'\n",
    "    uuid = results['data'][num]['uuid']\n",
    "    version = results['data'][num]['version']\n",
    "    api_url = f'{baseURL}{uuid}?version={version}&format=JSON'\n",
    "\n",
    "    response3 = requests.get(url=api_url, headers=header)\n",
    "    results3 = response3.json()\n",
    "\n",
    "    name = results3['processInformation']['dataSetInformation']['name']['baseName'][0]['value']\n",
    "    \n",
    "    \n",
    "\n",
    "    print(f'{name} Done')"
   ]
  },
  {
   "cell_type": "code",
   "execution_count": 9,
   "metadata": {},
   "outputs": [
    {
     "name": "stdout",
     "output_type": "stream",
     "text": [
      "[]\n"
     ]
    }
   ],
   "source": [
    "def find_value(d, value, path=\"\"):\n",
    "    found = []  \n",
    "\n",
    "    if isinstance(d, dict):  \n",
    "        for key, dvalue in d.items():\n",
    "            new_path = f\"{path}.{key}\" if path else key\n",
    "            if dvalue == value:\n",
    "                found.append(new_path)\n",
    "            elif isinstance(dvalue, (dict, list)):\n",
    "                found.extend(find_value(dvalue, value, new_path))\n",
    "    \n",
    "    elif isinstance(d, list):\n",
    "        for index, item in enumerate(d):\n",
    "            new_path = f\"{path}[{index}]\"\n",
    "            if item == value:\n",
    "                found.append(new_path)\n",
    "            elif isinstance(item, (dict, list)):\n",
    "                found.extend(find_value(item, value, new_path))\n",
    "\n",
    "    return found\n",
    "\n",
    "\n",
    "search = \"(GWP-total)\"\n",
    "dPath = find_value(results2, search)\n",
    "\n",
    "print(dPath)\n"
   ]
  },
  {
   "cell_type": "code",
   "execution_count": 17,
   "metadata": {},
   "outputs": [
    {
     "name": "stdout",
     "output_type": "stream",
     "text": [
      "['LCIAResults.LCIAResult[1].referenceToLCIAMethodDataSet.shortDescription[0].value']\n"
     ]
    },
    {
     "ename": "",
     "evalue": "",
     "output_type": "error",
     "traceback": [
      "\u001b[1;31mThe Kernel crashed while executing code in the current cell or a previous cell. \n",
      "\u001b[1;31mPlease review the code in the cell(s) to identify a possible cause of the failure. \n",
      "\u001b[1;31mClick <a href='https://aka.ms/vscodeJupyterKernelCrash'>here</a> for more info. \n",
      "\u001b[1;31mView Jupyter <a href='command:jupyter.viewOutput'>log</a> for further details."
     ]
    }
   ],
   "source": [
    "def find_value(d, value, path=\"\"):\n",
    "    found = []\n",
    "\n",
    "    if isinstance(d, dict):\n",
    "        for key, dvalue in d.items():\n",
    "            new_path = f\"{path}.{key}\" if path else key\n",
    "            \n",
    "            if isinstance(dvalue, str) and value in dvalue: #added for partial match\n",
    "                found.append(new_path)\n",
    "            elif isinstance(dvalue, (dict, list)):\n",
    "                found.extend(find_value(dvalue, value, new_path))\n",
    "\n",
    "    elif isinstance(d, list):\n",
    "        for index, item in enumerate(d):\n",
    "            new_path = f\"{path}[{index}]\"\n",
    "\n",
    "            if isinstance(item, str) and value in item:\n",
    "                found.append(new_path)  #partial\n",
    "            elif isinstance(item, (dict, list)):\n",
    "                found.extend(find_value(item, value, new_path))\n",
    "\n",
    "    return found\n",
    "\n",
    "search = \"GWP-total\"\n",
    "dPath = find_value(results2, search)\n",
    "\n",
    "print(dPath)\n",
    "#len(dPath)\n",
    "#dpath2 = dPath[0].replace('.', '][') + ']'\n",
    "\n",
    "\n",
    "#results2['LCIAResults']['LCIAResult'][1]['other']['anies'][0]\n"
   ]
  },
  {
   "cell_type": "code",
   "execution_count": 47,
   "metadata": {},
   "outputs": [
    {
     "data": {
      "text/plain": [
       "list"
      ]
     },
     "execution_count": 47,
     "metadata": {},
     "output_type": "execute_result"
    }
   ],
   "source": [
    "type(results3['processInformation']['dataSetInformation']['name']['baseName'])\n",
    "#print(results3['processInformation']['dataSetInformation']['name']['baseName'])"
   ]
  },
  {
   "cell_type": "code",
   "execution_count": 30,
   "metadata": {},
   "outputs": [
    {
     "name": "stdout",
     "output_type": "stream",
     "text": [
      "[{'2': ' ABb PMB, Skanska Industrial Solutions, Dalby asfaltverk'}, {'3': ' ABb, Skanska Industrial Solutions, Dalby asfaltverk'}, {'4': ' AG, Skanska Industrial Solutions, Dalby asfaltverk'}, {'5': ' AG, Skanska Industrial Solutions, Luleå Asfaltverk'}, {'6': ' AXLJ-RMF Eco Cable 3x240/35 LT 12kV'}, {'7': ' Betonelement Grå væg'}, {'8': ' Betonelement Væg C35 Passiv'}, {'9': ' Bewi Finland Oy EPS Lattia'}, {'10': ' Birsta S N2 W4 c/c4  m'}]\n"
     ]
    }
   ],
   "source": [
    "EPDs = []\n",
    "\n",
    "for x in range(2,11):\n",
    "    num = x\n",
    "    baseURL = 'https://epdnorway.lca-data.com/resource/datastocks/91413340-7bf0-4f88-a952-0f91cba685df/processes/'\n",
    "    uuid = results['data'][num]['uuid']\n",
    "    version = results['data'][num]['version']\n",
    "    api_url = f'{baseURL}{uuid}?version={version}&format=JSON'\n",
    "\n",
    "    response3 = requests.get(url=api_url, headers=header)\n",
    "    results3 = response3.json()\n",
    "\n",
    "    name = results3['processInformation']['dataSetInformation']['name']['baseName'][0]['value']\n",
    "    EPDs.append({str(x): name})\n",
    "\n",
    "print(EPDs[0])"
   ]
  },
  {
   "cell_type": "code",
   "execution_count": 42,
   "metadata": {},
   "outputs": [
    {
     "name": "stdout",
     "output_type": "stream",
     "text": [
      "[{'2': ' ABb PMB, Skanska Industrial Solutions, Dalby asfaltverk'}, {'3': ' ABb, Skanska Industrial Solutions, Dalby asfaltverk'}, {'4': ' AG, Skanska Industrial Solutions, Dalby asfaltverk'}, {'5': ' AG, Skanska Industrial Solutions, Luleå Asfaltverk'}, {'6': ' AXLJ-RMF Eco Cable 3x240/35 LT 12kV'}, {'7': ' Betonelement Grå væg'}, {'8': ' Betonelement Væg C35 Passiv'}, {'9': ' Bewi Finland Oy EPS Lattia'}, {'10': ' Birsta S N2 W4 c/c4  m'}]\n"
     ]
    }
   ],
   "source": [
    "EPDs[3].keys()\n",
    "print(EPDs)"
   ]
  }
 ],
 "metadata": {
  "kernelspec": {
   "display_name": "base",
   "language": "python",
   "name": "python3"
  },
  "language_info": {
   "codemirror_mode": {
    "name": "ipython",
    "version": 3
   },
   "file_extension": ".py",
   "mimetype": "text/x-python",
   "name": "python",
   "nbconvert_exporter": "python",
   "pygments_lexer": "ipython3",
   "version": "3.12.4"
  }
 },
 "nbformat": 4,
 "nbformat_minor": 2
}
